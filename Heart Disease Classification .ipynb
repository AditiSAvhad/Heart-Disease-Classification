{
 "cells": [
  {
   "cell_type": "markdown",
   "id": "aed5703f",
   "metadata": {},
   "source": [
    "We optained the dataset from the following link\n",
    "\n",
    "Dataset link = dataset = https://www.kaggle.com/datasets/alexteboul/heart-disease-health-indicators-dataset?resource=download"
   ]
  },
  {
   "cell_type": "code",
   "execution_count": 1,
   "id": "2452d430",
   "metadata": {},
   "outputs": [],
   "source": [
    "import pandas as pd\n",
    "import numpy as np\n",
    "import matplotlib.pyplot as plt\n",
    "import seaborn as sns\n",
    "from sklearn.model_selection import train_test_split\n",
    "from sklearn.preprocessing import StandardScaler \n",
    "from sklearn.linear_model import LogisticRegression\n",
    "from sklearn.tree import DecisionTreeClassifier\n",
    "from sklearn.neighbors import KNeighborsClassifier\n",
    "from sklearn.metrics import accuracy_score, classification_report, confusion_matrix\n",
    "from sklearn import metrics\n",
    "import warnings\n",
    "warnings.filterwarnings(\"ignore\")"
   ]
  },
  {
   "cell_type": "markdown",
   "id": "00873d12",
   "metadata": {},
   "source": [
    "*Here we import some necessary libraries :\n",
    "\n",
    "    1. Pandas for data manipulation.\n",
    "    2. Numpy for numerical operatons.\n",
    "    3. Matplotlib and Seaborn for data visualization.\n",
    "    4. Scikit-learn for machine learning algorithms and evaluation metrices.\n",
    "    5. Warnings to supress any warnings during execution.\n",
    "    \n",
    "Also we imports specific modules such as logistic regression , decision tree classifier, K-nearest neighbors classifier, and various metrices for model evaluation.*"
   ]
  },
  {
   "cell_type": "code",
   "execution_count": 2,
   "id": "cbe0f663",
   "metadata": {},
   "outputs": [],
   "source": [
    "df = pd.read_csv('heart_disease_health_indicators_BRFSS2015.csv')"
   ]
  },
  {
   "cell_type": "markdown",
   "id": "28bccaf3",
   "metadata": {},
   "source": [
    "*Here we load our dataset*"
   ]
  },
  {
   "cell_type": "code",
   "execution_count": 3,
   "id": "e9fdb6ab",
   "metadata": {},
   "outputs": [
    {
     "data": {
      "text/html": [
       "<div>\n",
       "<style scoped>\n",
       "    .dataframe tbody tr th:only-of-type {\n",
       "        vertical-align: middle;\n",
       "    }\n",
       "\n",
       "    .dataframe tbody tr th {\n",
       "        vertical-align: top;\n",
       "    }\n",
       "\n",
       "    .dataframe thead th {\n",
       "        text-align: right;\n",
       "    }\n",
       "</style>\n",
       "<table border=\"1\" class=\"dataframe\">\n",
       "  <thead>\n",
       "    <tr style=\"text-align: right;\">\n",
       "      <th></th>\n",
       "      <th>HeartDiseaseorAttack</th>\n",
       "      <th>HighBP</th>\n",
       "      <th>HighChol</th>\n",
       "      <th>CholCheck</th>\n",
       "      <th>BMI</th>\n",
       "      <th>Smoker</th>\n",
       "      <th>Stroke</th>\n",
       "      <th>Diabetes</th>\n",
       "      <th>PhysActivity</th>\n",
       "      <th>Fruits</th>\n",
       "      <th>...</th>\n",
       "      <th>AnyHealthcare</th>\n",
       "      <th>NoDocbcCost</th>\n",
       "      <th>GenHlth</th>\n",
       "      <th>MentHlth</th>\n",
       "      <th>PhysHlth</th>\n",
       "      <th>DiffWalk</th>\n",
       "      <th>Sex</th>\n",
       "      <th>Age</th>\n",
       "      <th>Education</th>\n",
       "      <th>Income</th>\n",
       "    </tr>\n",
       "  </thead>\n",
       "  <tbody>\n",
       "    <tr>\n",
       "      <th>0</th>\n",
       "      <td>0.0</td>\n",
       "      <td>1.0</td>\n",
       "      <td>1.0</td>\n",
       "      <td>1.0</td>\n",
       "      <td>40.0</td>\n",
       "      <td>1.0</td>\n",
       "      <td>0.0</td>\n",
       "      <td>0.0</td>\n",
       "      <td>0.0</td>\n",
       "      <td>0.0</td>\n",
       "      <td>...</td>\n",
       "      <td>1.0</td>\n",
       "      <td>0.0</td>\n",
       "      <td>5.0</td>\n",
       "      <td>18.0</td>\n",
       "      <td>15.0</td>\n",
       "      <td>1.0</td>\n",
       "      <td>0.0</td>\n",
       "      <td>9.0</td>\n",
       "      <td>4.0</td>\n",
       "      <td>3.0</td>\n",
       "    </tr>\n",
       "    <tr>\n",
       "      <th>1</th>\n",
       "      <td>0.0</td>\n",
       "      <td>0.0</td>\n",
       "      <td>0.0</td>\n",
       "      <td>0.0</td>\n",
       "      <td>25.0</td>\n",
       "      <td>1.0</td>\n",
       "      <td>0.0</td>\n",
       "      <td>0.0</td>\n",
       "      <td>1.0</td>\n",
       "      <td>0.0</td>\n",
       "      <td>...</td>\n",
       "      <td>0.0</td>\n",
       "      <td>1.0</td>\n",
       "      <td>3.0</td>\n",
       "      <td>0.0</td>\n",
       "      <td>0.0</td>\n",
       "      <td>0.0</td>\n",
       "      <td>0.0</td>\n",
       "      <td>7.0</td>\n",
       "      <td>6.0</td>\n",
       "      <td>1.0</td>\n",
       "    </tr>\n",
       "    <tr>\n",
       "      <th>2</th>\n",
       "      <td>0.0</td>\n",
       "      <td>1.0</td>\n",
       "      <td>1.0</td>\n",
       "      <td>1.0</td>\n",
       "      <td>28.0</td>\n",
       "      <td>0.0</td>\n",
       "      <td>0.0</td>\n",
       "      <td>0.0</td>\n",
       "      <td>0.0</td>\n",
       "      <td>1.0</td>\n",
       "      <td>...</td>\n",
       "      <td>1.0</td>\n",
       "      <td>1.0</td>\n",
       "      <td>5.0</td>\n",
       "      <td>30.0</td>\n",
       "      <td>30.0</td>\n",
       "      <td>1.0</td>\n",
       "      <td>0.0</td>\n",
       "      <td>9.0</td>\n",
       "      <td>4.0</td>\n",
       "      <td>8.0</td>\n",
       "    </tr>\n",
       "    <tr>\n",
       "      <th>3</th>\n",
       "      <td>0.0</td>\n",
       "      <td>1.0</td>\n",
       "      <td>0.0</td>\n",
       "      <td>1.0</td>\n",
       "      <td>27.0</td>\n",
       "      <td>0.0</td>\n",
       "      <td>0.0</td>\n",
       "      <td>0.0</td>\n",
       "      <td>1.0</td>\n",
       "      <td>1.0</td>\n",
       "      <td>...</td>\n",
       "      <td>1.0</td>\n",
       "      <td>0.0</td>\n",
       "      <td>2.0</td>\n",
       "      <td>0.0</td>\n",
       "      <td>0.0</td>\n",
       "      <td>0.0</td>\n",
       "      <td>0.0</td>\n",
       "      <td>11.0</td>\n",
       "      <td>3.0</td>\n",
       "      <td>6.0</td>\n",
       "    </tr>\n",
       "    <tr>\n",
       "      <th>4</th>\n",
       "      <td>0.0</td>\n",
       "      <td>1.0</td>\n",
       "      <td>1.0</td>\n",
       "      <td>1.0</td>\n",
       "      <td>24.0</td>\n",
       "      <td>0.0</td>\n",
       "      <td>0.0</td>\n",
       "      <td>0.0</td>\n",
       "      <td>1.0</td>\n",
       "      <td>1.0</td>\n",
       "      <td>...</td>\n",
       "      <td>1.0</td>\n",
       "      <td>0.0</td>\n",
       "      <td>2.0</td>\n",
       "      <td>3.0</td>\n",
       "      <td>0.0</td>\n",
       "      <td>0.0</td>\n",
       "      <td>0.0</td>\n",
       "      <td>11.0</td>\n",
       "      <td>5.0</td>\n",
       "      <td>4.0</td>\n",
       "    </tr>\n",
       "    <tr>\n",
       "      <th>...</th>\n",
       "      <td>...</td>\n",
       "      <td>...</td>\n",
       "      <td>...</td>\n",
       "      <td>...</td>\n",
       "      <td>...</td>\n",
       "      <td>...</td>\n",
       "      <td>...</td>\n",
       "      <td>...</td>\n",
       "      <td>...</td>\n",
       "      <td>...</td>\n",
       "      <td>...</td>\n",
       "      <td>...</td>\n",
       "      <td>...</td>\n",
       "      <td>...</td>\n",
       "      <td>...</td>\n",
       "      <td>...</td>\n",
       "      <td>...</td>\n",
       "      <td>...</td>\n",
       "      <td>...</td>\n",
       "      <td>...</td>\n",
       "      <td>...</td>\n",
       "    </tr>\n",
       "    <tr>\n",
       "      <th>253675</th>\n",
       "      <td>0.0</td>\n",
       "      <td>1.0</td>\n",
       "      <td>1.0</td>\n",
       "      <td>1.0</td>\n",
       "      <td>45.0</td>\n",
       "      <td>0.0</td>\n",
       "      <td>0.0</td>\n",
       "      <td>0.0</td>\n",
       "      <td>0.0</td>\n",
       "      <td>1.0</td>\n",
       "      <td>...</td>\n",
       "      <td>1.0</td>\n",
       "      <td>0.0</td>\n",
       "      <td>3.0</td>\n",
       "      <td>0.0</td>\n",
       "      <td>5.0</td>\n",
       "      <td>0.0</td>\n",
       "      <td>1.0</td>\n",
       "      <td>5.0</td>\n",
       "      <td>6.0</td>\n",
       "      <td>7.0</td>\n",
       "    </tr>\n",
       "    <tr>\n",
       "      <th>253676</th>\n",
       "      <td>0.0</td>\n",
       "      <td>1.0</td>\n",
       "      <td>1.0</td>\n",
       "      <td>1.0</td>\n",
       "      <td>18.0</td>\n",
       "      <td>0.0</td>\n",
       "      <td>0.0</td>\n",
       "      <td>2.0</td>\n",
       "      <td>0.0</td>\n",
       "      <td>0.0</td>\n",
       "      <td>...</td>\n",
       "      <td>1.0</td>\n",
       "      <td>0.0</td>\n",
       "      <td>4.0</td>\n",
       "      <td>0.0</td>\n",
       "      <td>0.0</td>\n",
       "      <td>1.0</td>\n",
       "      <td>0.0</td>\n",
       "      <td>11.0</td>\n",
       "      <td>2.0</td>\n",
       "      <td>4.0</td>\n",
       "    </tr>\n",
       "    <tr>\n",
       "      <th>253677</th>\n",
       "      <td>0.0</td>\n",
       "      <td>0.0</td>\n",
       "      <td>0.0</td>\n",
       "      <td>1.0</td>\n",
       "      <td>28.0</td>\n",
       "      <td>0.0</td>\n",
       "      <td>0.0</td>\n",
       "      <td>0.0</td>\n",
       "      <td>1.0</td>\n",
       "      <td>1.0</td>\n",
       "      <td>...</td>\n",
       "      <td>1.0</td>\n",
       "      <td>0.0</td>\n",
       "      <td>1.0</td>\n",
       "      <td>0.0</td>\n",
       "      <td>0.0</td>\n",
       "      <td>0.0</td>\n",
       "      <td>0.0</td>\n",
       "      <td>2.0</td>\n",
       "      <td>5.0</td>\n",
       "      <td>2.0</td>\n",
       "    </tr>\n",
       "    <tr>\n",
       "      <th>253678</th>\n",
       "      <td>0.0</td>\n",
       "      <td>1.0</td>\n",
       "      <td>0.0</td>\n",
       "      <td>1.0</td>\n",
       "      <td>23.0</td>\n",
       "      <td>0.0</td>\n",
       "      <td>0.0</td>\n",
       "      <td>0.0</td>\n",
       "      <td>0.0</td>\n",
       "      <td>1.0</td>\n",
       "      <td>...</td>\n",
       "      <td>1.0</td>\n",
       "      <td>0.0</td>\n",
       "      <td>3.0</td>\n",
       "      <td>0.0</td>\n",
       "      <td>0.0</td>\n",
       "      <td>0.0</td>\n",
       "      <td>1.0</td>\n",
       "      <td>7.0</td>\n",
       "      <td>5.0</td>\n",
       "      <td>1.0</td>\n",
       "    </tr>\n",
       "    <tr>\n",
       "      <th>253679</th>\n",
       "      <td>1.0</td>\n",
       "      <td>1.0</td>\n",
       "      <td>1.0</td>\n",
       "      <td>1.0</td>\n",
       "      <td>25.0</td>\n",
       "      <td>0.0</td>\n",
       "      <td>0.0</td>\n",
       "      <td>2.0</td>\n",
       "      <td>1.0</td>\n",
       "      <td>1.0</td>\n",
       "      <td>...</td>\n",
       "      <td>1.0</td>\n",
       "      <td>0.0</td>\n",
       "      <td>2.0</td>\n",
       "      <td>0.0</td>\n",
       "      <td>0.0</td>\n",
       "      <td>0.0</td>\n",
       "      <td>0.0</td>\n",
       "      <td>9.0</td>\n",
       "      <td>6.0</td>\n",
       "      <td>2.0</td>\n",
       "    </tr>\n",
       "  </tbody>\n",
       "</table>\n",
       "<p>253680 rows × 22 columns</p>\n",
       "</div>"
      ],
      "text/plain": [
       "        HeartDiseaseorAttack  HighBP  HighChol  CholCheck   BMI  Smoker  \\\n",
       "0                        0.0     1.0       1.0        1.0  40.0     1.0   \n",
       "1                        0.0     0.0       0.0        0.0  25.0     1.0   \n",
       "2                        0.0     1.0       1.0        1.0  28.0     0.0   \n",
       "3                        0.0     1.0       0.0        1.0  27.0     0.0   \n",
       "4                        0.0     1.0       1.0        1.0  24.0     0.0   \n",
       "...                      ...     ...       ...        ...   ...     ...   \n",
       "253675                   0.0     1.0       1.0        1.0  45.0     0.0   \n",
       "253676                   0.0     1.0       1.0        1.0  18.0     0.0   \n",
       "253677                   0.0     0.0       0.0        1.0  28.0     0.0   \n",
       "253678                   0.0     1.0       0.0        1.0  23.0     0.0   \n",
       "253679                   1.0     1.0       1.0        1.0  25.0     0.0   \n",
       "\n",
       "        Stroke  Diabetes  PhysActivity  Fruits  ...  AnyHealthcare  \\\n",
       "0          0.0       0.0           0.0     0.0  ...            1.0   \n",
       "1          0.0       0.0           1.0     0.0  ...            0.0   \n",
       "2          0.0       0.0           0.0     1.0  ...            1.0   \n",
       "3          0.0       0.0           1.0     1.0  ...            1.0   \n",
       "4          0.0       0.0           1.0     1.0  ...            1.0   \n",
       "...        ...       ...           ...     ...  ...            ...   \n",
       "253675     0.0       0.0           0.0     1.0  ...            1.0   \n",
       "253676     0.0       2.0           0.0     0.0  ...            1.0   \n",
       "253677     0.0       0.0           1.0     1.0  ...            1.0   \n",
       "253678     0.0       0.0           0.0     1.0  ...            1.0   \n",
       "253679     0.0       2.0           1.0     1.0  ...            1.0   \n",
       "\n",
       "        NoDocbcCost  GenHlth  MentHlth  PhysHlth  DiffWalk  Sex   Age  \\\n",
       "0               0.0      5.0      18.0      15.0       1.0  0.0   9.0   \n",
       "1               1.0      3.0       0.0       0.0       0.0  0.0   7.0   \n",
       "2               1.0      5.0      30.0      30.0       1.0  0.0   9.0   \n",
       "3               0.0      2.0       0.0       0.0       0.0  0.0  11.0   \n",
       "4               0.0      2.0       3.0       0.0       0.0  0.0  11.0   \n",
       "...             ...      ...       ...       ...       ...  ...   ...   \n",
       "253675          0.0      3.0       0.0       5.0       0.0  1.0   5.0   \n",
       "253676          0.0      4.0       0.0       0.0       1.0  0.0  11.0   \n",
       "253677          0.0      1.0       0.0       0.0       0.0  0.0   2.0   \n",
       "253678          0.0      3.0       0.0       0.0       0.0  1.0   7.0   \n",
       "253679          0.0      2.0       0.0       0.0       0.0  0.0   9.0   \n",
       "\n",
       "        Education  Income  \n",
       "0             4.0     3.0  \n",
       "1             6.0     1.0  \n",
       "2             4.0     8.0  \n",
       "3             3.0     6.0  \n",
       "4             5.0     4.0  \n",
       "...           ...     ...  \n",
       "253675        6.0     7.0  \n",
       "253676        2.0     4.0  \n",
       "253677        5.0     2.0  \n",
       "253678        5.0     1.0  \n",
       "253679        6.0     2.0  \n",
       "\n",
       "[253680 rows x 22 columns]"
      ]
     },
     "execution_count": 3,
     "metadata": {},
     "output_type": "execute_result"
    }
   ],
   "source": [
    "df"
   ]
  },
  {
   "cell_type": "markdown",
   "id": "65e694c5",
   "metadata": {},
   "source": [
    "*This is our dataset.*"
   ]
  },
  {
   "cell_type": "markdown",
   "id": "6421b0d6",
   "metadata": {},
   "source": [
    "*Let's explore more about our dataframe *"
   ]
  },
  {
   "cell_type": "code",
   "execution_count": 4,
   "id": "c64f811e",
   "metadata": {},
   "outputs": [
    {
     "name": "stdout",
     "output_type": "stream",
     "text": [
      "<class 'pandas.core.frame.DataFrame'>\n",
      "RangeIndex: 253680 entries, 0 to 253679\n",
      "Data columns (total 22 columns):\n",
      " #   Column                Non-Null Count   Dtype  \n",
      "---  ------                --------------   -----  \n",
      " 0   HeartDiseaseorAttack  253680 non-null  float64\n",
      " 1   HighBP                253680 non-null  float64\n",
      " 2   HighChol              253680 non-null  float64\n",
      " 3   CholCheck             253680 non-null  float64\n",
      " 4   BMI                   253680 non-null  float64\n",
      " 5   Smoker                253680 non-null  float64\n",
      " 6   Stroke                253680 non-null  float64\n",
      " 7   Diabetes              253680 non-null  float64\n",
      " 8   PhysActivity          253680 non-null  float64\n",
      " 9   Fruits                253680 non-null  float64\n",
      " 10  Veggies               253680 non-null  float64\n",
      " 11  HvyAlcoholConsump     253680 non-null  float64\n",
      " 12  AnyHealthcare         253680 non-null  float64\n",
      " 13  NoDocbcCost           253680 non-null  float64\n",
      " 14  GenHlth               253680 non-null  float64\n",
      " 15  MentHlth              253680 non-null  float64\n",
      " 16  PhysHlth              253680 non-null  float64\n",
      " 17  DiffWalk              253680 non-null  float64\n",
      " 18  Sex                   253680 non-null  float64\n",
      " 19  Age                   253680 non-null  float64\n",
      " 20  Education             253680 non-null  float64\n",
      " 21  Income                253680 non-null  float64\n",
      "dtypes: float64(22)\n",
      "memory usage: 42.6 MB\n"
     ]
    }
   ],
   "source": [
    "df.info()"
   ]
  },
  {
   "cell_type": "markdown",
   "id": "7e6b6451",
   "metadata": {},
   "source": [
    "*Here our dataset contains 22 columns and 25380 rows and there are no null values in our dataframe.*"
   ]
  },
  {
   "cell_type": "code",
   "execution_count": 5,
   "id": "f3170177",
   "metadata": {},
   "outputs": [
    {
     "data": {
      "text/html": [
       "<div>\n",
       "<style scoped>\n",
       "    .dataframe tbody tr th:only-of-type {\n",
       "        vertical-align: middle;\n",
       "    }\n",
       "\n",
       "    .dataframe tbody tr th {\n",
       "        vertical-align: top;\n",
       "    }\n",
       "\n",
       "    .dataframe thead th {\n",
       "        text-align: right;\n",
       "    }\n",
       "</style>\n",
       "<table border=\"1\" class=\"dataframe\">\n",
       "  <thead>\n",
       "    <tr style=\"text-align: right;\">\n",
       "      <th></th>\n",
       "      <th>HeartDiseaseorAttack</th>\n",
       "      <th>HighBP</th>\n",
       "      <th>HighChol</th>\n",
       "      <th>CholCheck</th>\n",
       "      <th>BMI</th>\n",
       "      <th>Smoker</th>\n",
       "      <th>Stroke</th>\n",
       "      <th>Diabetes</th>\n",
       "      <th>PhysActivity</th>\n",
       "      <th>Fruits</th>\n",
       "      <th>...</th>\n",
       "      <th>AnyHealthcare</th>\n",
       "      <th>NoDocbcCost</th>\n",
       "      <th>GenHlth</th>\n",
       "      <th>MentHlth</th>\n",
       "      <th>PhysHlth</th>\n",
       "      <th>DiffWalk</th>\n",
       "      <th>Sex</th>\n",
       "      <th>Age</th>\n",
       "      <th>Education</th>\n",
       "      <th>Income</th>\n",
       "    </tr>\n",
       "  </thead>\n",
       "  <tbody>\n",
       "    <tr>\n",
       "      <th>count</th>\n",
       "      <td>253680.000000</td>\n",
       "      <td>253680.000000</td>\n",
       "      <td>253680.000000</td>\n",
       "      <td>253680.000000</td>\n",
       "      <td>253680.000000</td>\n",
       "      <td>253680.000000</td>\n",
       "      <td>253680.000000</td>\n",
       "      <td>253680.000000</td>\n",
       "      <td>253680.000000</td>\n",
       "      <td>253680.000000</td>\n",
       "      <td>...</td>\n",
       "      <td>253680.000000</td>\n",
       "      <td>253680.000000</td>\n",
       "      <td>253680.000000</td>\n",
       "      <td>253680.000000</td>\n",
       "      <td>253680.000000</td>\n",
       "      <td>253680.000000</td>\n",
       "      <td>253680.000000</td>\n",
       "      <td>253680.000000</td>\n",
       "      <td>253680.000000</td>\n",
       "      <td>253680.000000</td>\n",
       "    </tr>\n",
       "    <tr>\n",
       "      <th>mean</th>\n",
       "      <td>0.094186</td>\n",
       "      <td>0.429001</td>\n",
       "      <td>0.424121</td>\n",
       "      <td>0.962670</td>\n",
       "      <td>28.382364</td>\n",
       "      <td>0.443169</td>\n",
       "      <td>0.040571</td>\n",
       "      <td>0.296921</td>\n",
       "      <td>0.756544</td>\n",
       "      <td>0.634256</td>\n",
       "      <td>...</td>\n",
       "      <td>0.951053</td>\n",
       "      <td>0.084177</td>\n",
       "      <td>2.511392</td>\n",
       "      <td>3.184772</td>\n",
       "      <td>4.242081</td>\n",
       "      <td>0.168224</td>\n",
       "      <td>0.440342</td>\n",
       "      <td>8.032119</td>\n",
       "      <td>5.050434</td>\n",
       "      <td>6.053875</td>\n",
       "    </tr>\n",
       "    <tr>\n",
       "      <th>std</th>\n",
       "      <td>0.292087</td>\n",
       "      <td>0.494934</td>\n",
       "      <td>0.494210</td>\n",
       "      <td>0.189571</td>\n",
       "      <td>6.608694</td>\n",
       "      <td>0.496761</td>\n",
       "      <td>0.197294</td>\n",
       "      <td>0.698160</td>\n",
       "      <td>0.429169</td>\n",
       "      <td>0.481639</td>\n",
       "      <td>...</td>\n",
       "      <td>0.215759</td>\n",
       "      <td>0.277654</td>\n",
       "      <td>1.068477</td>\n",
       "      <td>7.412847</td>\n",
       "      <td>8.717951</td>\n",
       "      <td>0.374066</td>\n",
       "      <td>0.496429</td>\n",
       "      <td>3.054220</td>\n",
       "      <td>0.985774</td>\n",
       "      <td>2.071148</td>\n",
       "    </tr>\n",
       "    <tr>\n",
       "      <th>min</th>\n",
       "      <td>0.000000</td>\n",
       "      <td>0.000000</td>\n",
       "      <td>0.000000</td>\n",
       "      <td>0.000000</td>\n",
       "      <td>12.000000</td>\n",
       "      <td>0.000000</td>\n",
       "      <td>0.000000</td>\n",
       "      <td>0.000000</td>\n",
       "      <td>0.000000</td>\n",
       "      <td>0.000000</td>\n",
       "      <td>...</td>\n",
       "      <td>0.000000</td>\n",
       "      <td>0.000000</td>\n",
       "      <td>1.000000</td>\n",
       "      <td>0.000000</td>\n",
       "      <td>0.000000</td>\n",
       "      <td>0.000000</td>\n",
       "      <td>0.000000</td>\n",
       "      <td>1.000000</td>\n",
       "      <td>1.000000</td>\n",
       "      <td>1.000000</td>\n",
       "    </tr>\n",
       "    <tr>\n",
       "      <th>25%</th>\n",
       "      <td>0.000000</td>\n",
       "      <td>0.000000</td>\n",
       "      <td>0.000000</td>\n",
       "      <td>1.000000</td>\n",
       "      <td>24.000000</td>\n",
       "      <td>0.000000</td>\n",
       "      <td>0.000000</td>\n",
       "      <td>0.000000</td>\n",
       "      <td>1.000000</td>\n",
       "      <td>0.000000</td>\n",
       "      <td>...</td>\n",
       "      <td>1.000000</td>\n",
       "      <td>0.000000</td>\n",
       "      <td>2.000000</td>\n",
       "      <td>0.000000</td>\n",
       "      <td>0.000000</td>\n",
       "      <td>0.000000</td>\n",
       "      <td>0.000000</td>\n",
       "      <td>6.000000</td>\n",
       "      <td>4.000000</td>\n",
       "      <td>5.000000</td>\n",
       "    </tr>\n",
       "    <tr>\n",
       "      <th>50%</th>\n",
       "      <td>0.000000</td>\n",
       "      <td>0.000000</td>\n",
       "      <td>0.000000</td>\n",
       "      <td>1.000000</td>\n",
       "      <td>27.000000</td>\n",
       "      <td>0.000000</td>\n",
       "      <td>0.000000</td>\n",
       "      <td>0.000000</td>\n",
       "      <td>1.000000</td>\n",
       "      <td>1.000000</td>\n",
       "      <td>...</td>\n",
       "      <td>1.000000</td>\n",
       "      <td>0.000000</td>\n",
       "      <td>2.000000</td>\n",
       "      <td>0.000000</td>\n",
       "      <td>0.000000</td>\n",
       "      <td>0.000000</td>\n",
       "      <td>0.000000</td>\n",
       "      <td>8.000000</td>\n",
       "      <td>5.000000</td>\n",
       "      <td>7.000000</td>\n",
       "    </tr>\n",
       "    <tr>\n",
       "      <th>75%</th>\n",
       "      <td>0.000000</td>\n",
       "      <td>1.000000</td>\n",
       "      <td>1.000000</td>\n",
       "      <td>1.000000</td>\n",
       "      <td>31.000000</td>\n",
       "      <td>1.000000</td>\n",
       "      <td>0.000000</td>\n",
       "      <td>0.000000</td>\n",
       "      <td>1.000000</td>\n",
       "      <td>1.000000</td>\n",
       "      <td>...</td>\n",
       "      <td>1.000000</td>\n",
       "      <td>0.000000</td>\n",
       "      <td>3.000000</td>\n",
       "      <td>2.000000</td>\n",
       "      <td>3.000000</td>\n",
       "      <td>0.000000</td>\n",
       "      <td>1.000000</td>\n",
       "      <td>10.000000</td>\n",
       "      <td>6.000000</td>\n",
       "      <td>8.000000</td>\n",
       "    </tr>\n",
       "    <tr>\n",
       "      <th>max</th>\n",
       "      <td>1.000000</td>\n",
       "      <td>1.000000</td>\n",
       "      <td>1.000000</td>\n",
       "      <td>1.000000</td>\n",
       "      <td>98.000000</td>\n",
       "      <td>1.000000</td>\n",
       "      <td>1.000000</td>\n",
       "      <td>2.000000</td>\n",
       "      <td>1.000000</td>\n",
       "      <td>1.000000</td>\n",
       "      <td>...</td>\n",
       "      <td>1.000000</td>\n",
       "      <td>1.000000</td>\n",
       "      <td>5.000000</td>\n",
       "      <td>30.000000</td>\n",
       "      <td>30.000000</td>\n",
       "      <td>1.000000</td>\n",
       "      <td>1.000000</td>\n",
       "      <td>13.000000</td>\n",
       "      <td>6.000000</td>\n",
       "      <td>8.000000</td>\n",
       "    </tr>\n",
       "  </tbody>\n",
       "</table>\n",
       "<p>8 rows × 22 columns</p>\n",
       "</div>"
      ],
      "text/plain": [
       "       HeartDiseaseorAttack         HighBP       HighChol      CholCheck  \\\n",
       "count         253680.000000  253680.000000  253680.000000  253680.000000   \n",
       "mean               0.094186       0.429001       0.424121       0.962670   \n",
       "std                0.292087       0.494934       0.494210       0.189571   \n",
       "min                0.000000       0.000000       0.000000       0.000000   \n",
       "25%                0.000000       0.000000       0.000000       1.000000   \n",
       "50%                0.000000       0.000000       0.000000       1.000000   \n",
       "75%                0.000000       1.000000       1.000000       1.000000   \n",
       "max                1.000000       1.000000       1.000000       1.000000   \n",
       "\n",
       "                 BMI         Smoker         Stroke       Diabetes  \\\n",
       "count  253680.000000  253680.000000  253680.000000  253680.000000   \n",
       "mean       28.382364       0.443169       0.040571       0.296921   \n",
       "std         6.608694       0.496761       0.197294       0.698160   \n",
       "min        12.000000       0.000000       0.000000       0.000000   \n",
       "25%        24.000000       0.000000       0.000000       0.000000   \n",
       "50%        27.000000       0.000000       0.000000       0.000000   \n",
       "75%        31.000000       1.000000       0.000000       0.000000   \n",
       "max        98.000000       1.000000       1.000000       2.000000   \n",
       "\n",
       "        PhysActivity         Fruits  ...  AnyHealthcare    NoDocbcCost  \\\n",
       "count  253680.000000  253680.000000  ...  253680.000000  253680.000000   \n",
       "mean        0.756544       0.634256  ...       0.951053       0.084177   \n",
       "std         0.429169       0.481639  ...       0.215759       0.277654   \n",
       "min         0.000000       0.000000  ...       0.000000       0.000000   \n",
       "25%         1.000000       0.000000  ...       1.000000       0.000000   \n",
       "50%         1.000000       1.000000  ...       1.000000       0.000000   \n",
       "75%         1.000000       1.000000  ...       1.000000       0.000000   \n",
       "max         1.000000       1.000000  ...       1.000000       1.000000   \n",
       "\n",
       "             GenHlth       MentHlth       PhysHlth       DiffWalk  \\\n",
       "count  253680.000000  253680.000000  253680.000000  253680.000000   \n",
       "mean        2.511392       3.184772       4.242081       0.168224   \n",
       "std         1.068477       7.412847       8.717951       0.374066   \n",
       "min         1.000000       0.000000       0.000000       0.000000   \n",
       "25%         2.000000       0.000000       0.000000       0.000000   \n",
       "50%         2.000000       0.000000       0.000000       0.000000   \n",
       "75%         3.000000       2.000000       3.000000       0.000000   \n",
       "max         5.000000      30.000000      30.000000       1.000000   \n",
       "\n",
       "                 Sex            Age      Education         Income  \n",
       "count  253680.000000  253680.000000  253680.000000  253680.000000  \n",
       "mean        0.440342       8.032119       5.050434       6.053875  \n",
       "std         0.496429       3.054220       0.985774       2.071148  \n",
       "min         0.000000       1.000000       1.000000       1.000000  \n",
       "25%         0.000000       6.000000       4.000000       5.000000  \n",
       "50%         0.000000       8.000000       5.000000       7.000000  \n",
       "75%         1.000000      10.000000       6.000000       8.000000  \n",
       "max         1.000000      13.000000       6.000000       8.000000  \n",
       "\n",
       "[8 rows x 22 columns]"
      ]
     },
     "execution_count": 5,
     "metadata": {},
     "output_type": "execute_result"
    }
   ],
   "source": [
    "df.describe()"
   ]
  },
  {
   "cell_type": "markdown",
   "id": "8ea6ccdf",
   "metadata": {},
   "source": [
    "*This provides the count, mean, median, standard deviation, minimum, maximum, and quantile values for each numerical column in the dataset / dataframe .*"
   ]
  },
  {
   "cell_type": "code",
   "execution_count": 6,
   "id": "aac11d70",
   "metadata": {},
   "outputs": [
    {
     "data": {
      "text/plain": [
       "Index(['HeartDiseaseorAttack', 'HighBP', 'HighChol', 'CholCheck', 'BMI',\n",
       "       'Smoker', 'Stroke', 'Diabetes', 'PhysActivity', 'Fruits', 'Veggies',\n",
       "       'HvyAlcoholConsump', 'AnyHealthcare', 'NoDocbcCost', 'GenHlth',\n",
       "       'MentHlth', 'PhysHlth', 'DiffWalk', 'Sex', 'Age', 'Education',\n",
       "       'Income'],\n",
       "      dtype='object')"
      ]
     },
     "execution_count": 6,
     "metadata": {},
     "output_type": "execute_result"
    }
   ],
   "source": [
    "df.columns"
   ]
  },
  {
   "cell_type": "code",
   "execution_count": 7,
   "id": "39e9bc7d",
   "metadata": {},
   "outputs": [],
   "source": [
    "df.drop(['Fruits', 'Veggies','AnyHealthcare', 'NoDocbcCost','DiffWalk','Education','Income',],axis=1,inplace=True)"
   ]
  },
  {
   "cell_type": "markdown",
   "id": "9c487770",
   "metadata": {},
   "source": [
    "*Here we removed the 'Fruits','AnyHealthcare', 'NoDocbcCost', 'Veggies','DiffWalk','Education','Income' columns from our dataframe(df).*"
   ]
  },
  {
   "cell_type": "code",
   "execution_count": 8,
   "id": "9f80bb28",
   "metadata": {},
   "outputs": [
    {
     "data": {
      "text/plain": [
       "Index(['HeartDiseaseorAttack', 'HighBP', 'HighChol', 'CholCheck', 'BMI',\n",
       "       'Smoker', 'Stroke', 'Diabetes', 'PhysActivity', 'HvyAlcoholConsump',\n",
       "       'GenHlth', 'MentHlth', 'PhysHlth', 'Sex', 'Age'],\n",
       "      dtype='object')"
      ]
     },
     "execution_count": 8,
     "metadata": {},
     "output_type": "execute_result"
    }
   ],
   "source": [
    "df.columns"
   ]
  },
  {
   "cell_type": "markdown",
   "id": "1e080188",
   "metadata": {},
   "source": [
    "*Here are the different columns in our dataframe after removing the 'Fruits', 'Veggies' columns from our dataframe*"
   ]
  },
  {
   "cell_type": "code",
   "execution_count": 9,
   "id": "6cd163bb",
   "metadata": {},
   "outputs": [
    {
     "data": {
      "text/plain": [
       "HeartDiseaseorAttack     2\n",
       "HighBP                   2\n",
       "HighChol                 2\n",
       "CholCheck                2\n",
       "BMI                     84\n",
       "Smoker                   2\n",
       "Stroke                   2\n",
       "Diabetes                 3\n",
       "PhysActivity             2\n",
       "HvyAlcoholConsump        2\n",
       "GenHlth                  5\n",
       "MentHlth                31\n",
       "PhysHlth                31\n",
       "Sex                      2\n",
       "Age                     13\n",
       "dtype: int64"
      ]
     },
     "execution_count": 9,
     "metadata": {},
     "output_type": "execute_result"
    }
   ],
   "source": [
    "df.nunique()"
   ]
  },
  {
   "cell_type": "markdown",
   "id": "90e2246d",
   "metadata": {},
   "source": [
    "*Here are number of unique values in each column of the dataframe.*"
   ]
  },
  {
   "cell_type": "code",
   "execution_count": 10,
   "id": "87cfd742",
   "metadata": {},
   "outputs": [
    {
     "data": {
      "text/plain": [
       "HeartDiseaseorAttack    0\n",
       "HighBP                  0\n",
       "HighChol                0\n",
       "CholCheck               0\n",
       "BMI                     0\n",
       "Smoker                  0\n",
       "Stroke                  0\n",
       "Diabetes                0\n",
       "PhysActivity            0\n",
       "HvyAlcoholConsump       0\n",
       "GenHlth                 0\n",
       "MentHlth                0\n",
       "PhysHlth                0\n",
       "Sex                     0\n",
       "Age                     0\n",
       "dtype: int64"
      ]
     },
     "execution_count": 10,
     "metadata": {},
     "output_type": "execute_result"
    }
   ],
   "source": [
    "df.isnull().sum()"
   ]
  },
  {
   "cell_type": "markdown",
   "id": "d2644dcd",
   "metadata": {},
   "source": [
    "*There is no null values in our dataframe.*"
   ]
  },
  {
   "cell_type": "code",
   "execution_count": 11,
   "id": "15040e40",
   "metadata": {},
   "outputs": [
    {
     "data": {
      "image/png": "[encoded data removed]",
      "text/plain": [
       "<Figure size 640x480 with 1 Axes>"
      ]
     },
     "metadata": {},
     "output_type": "display_data"
    }
   ],
   "source": [
    "box_plot=df.plot.box()\n",
    "box_plot.set_xticklabels(df.columns, rotation='vertical')\n",
    " \n",
    "# Add labels and title\n",
    "plt.xlabel('Categories')\n",
    "plt.ylabel('Values')\n",
    "plt.title('Box Plot with Vertical X-Tick Labels')\n",
    " \n",
    "# Show the plot\n",
    "plt.show()"
   ]
  },
  {
   "cell_type": "markdown",
   "id": "e3eb31fb",
   "metadata": {},
   "source": [
    "*Here we plot the box plot for the data in the DataFrame 'df'. It first plots the box plot and then rotates the x-axis labels vertically for better readability. Then, it adds labels for the x and y axes and a title for the plot. Finally, it displays the plot.\n",
    "In this we can see that there is outlier in 'BMI','Diabetes','MentlHlth','PhysHlth'. THese cloumns have more outlier as compare to other , so lets remove it one by one.*"
   ]
  },
  {
   "cell_type": "code",
   "execution_count": 12,
   "id": "57549e6c",
   "metadata": {},
   "outputs": [
    {
     "data": {
      "image/png": "[encoded data removed]",
      "text/plain": [
       "<Figure size 640x480 with 1 Axes>"
      ]
     },
     "metadata": {},
     "output_type": "display_data"
    }
   ],
   "source": [
    "box_plot=df[\"BMI\"].plot.box()"
   ]
  },
  {
   "cell_type": "markdown",
   "id": "8822a1a5",
   "metadata": {},
   "source": [
    "*Here we creates a box plot specifically for the \"BMI\" column in the DataFrame 'df'. It visualizes the distribution of BMI values using a box-and-whisker plot.*"
   ]
  },
  {
   "cell_type": "code",
   "execution_count": 13,
   "id": "c75c0b44",
   "metadata": {},
   "outputs": [],
   "source": [
    "from scipy.stats import zscore"
   ]
  },
  {
   "cell_type": "markdown",
   "id": "94e023dc",
   "metadata": {},
   "source": [
    "*Here we imports the zscore function from the scipy.stats module. This function calculates the z-score for each value in a dataset, which is a measure of how many standard deviations a data point is from the mean of the dataset*"
   ]
  },
  {
   "cell_type": "code",
   "execution_count": 14,
   "id": "44a8d4dc",
   "metadata": {},
   "outputs": [
    {
     "name": "stdout",
     "output_type": "stream",
     "text": [
      "Z-scores:\n",
      "0         1.757936\n",
      "1        -0.511806\n",
      "2        -0.057858\n",
      "3        -0.209174\n",
      "4        -0.663122\n",
      "            ...   \n",
      "253675    2.514516\n",
      "253676   -1.571019\n",
      "253677   -0.057858\n",
      "253678   -0.814438\n",
      "253679   -0.511806\n",
      "Name: BMI, Length: 253680, dtype: float64\n",
      "Z-scores:\n",
      "0         1.757936\n",
      "1        -0.511806\n",
      "2        -0.057858\n",
      "3        -0.209174\n",
      "4        -0.663122\n",
      "            ...   \n",
      "253675    2.514516\n",
      "253676   -1.571019\n",
      "253677   -0.057858\n",
      "253678   -0.814438\n",
      "253679   -0.511806\n",
      "Name: BMI, Length: 253680, dtype: float64\n"
     ]
    }
   ],
   "source": [
    "# Assuming 'df' is your DataFrame containing the data\n",
    "# Calculate z-scores for the \"BMI\" column\n",
    "z_scores = zscore(df['BMI'])\n",
    "\n",
    "# Print Z-scores\n",
    "print(\"Z-scores:\")\n",
    "print(z_scores)\n",
    "\n",
    "# Set a threshold for outlier detection (e.g., 2 standard deviations)\n",
    "threshold = 2 # Assuming 'df' is your DataFrame containing the data\n",
    "# Calculate z-scores for the \"BMI\" column\n",
    "z_scores = zscore(df['BMI'])\n",
    "\n",
    "# Print Z-scores\n",
    "print(\"Z-scores:\")\n",
    "print(z_scores)\n",
    "\n",
    "# Set a threshold for outlier detection (e.g., 2 standard deviations)\n",
    "threshold = 2"
   ]
  },
  {
   "cell_type": "markdown",
   "id": "09742f21",
   "metadata": {},
   "source": [
    "*Here calculates the z-scores for the \"BMI\" column in the DataFrame 'df' using the zscore function imported from scipy.stats. It then sets a threshold for outlier detection, typically 2 standard deviations from the mean. The calculated z-scores are printed out. These z-scores can be used to identify and potentially remove outliers from the dataset.*"
   ]
  },
  {
   "cell_type": "code",
   "execution_count": 15,
   "id": "a6f1ad2b",
   "metadata": {},
   "outputs": [
    {
     "name": "stdout",
     "output_type": "stream",
     "text": [
      "Outliers in BMI column:\n",
      "        HeartDiseaseorAttack  HighBP  HighChol  CholCheck   BMI  Smoker  \\\n",
      "85                       0.0     1.0       1.0        1.0  45.0     0.0   \n",
      "97                       0.0     1.0       0.0        1.0  45.0     0.0   \n",
      "156                      0.0     1.0       1.0        1.0  47.0     1.0   \n",
      "188                      0.0     1.0       0.0        1.0  43.0     1.0   \n",
      "201                      0.0     1.0       1.0        1.0  55.0     0.0   \n",
      "...                      ...     ...       ...        ...   ...     ...   \n",
      "253547                   0.0     1.0       1.0        1.0  44.0     0.0   \n",
      "253557                   0.0     1.0       1.0        1.0  42.0     0.0   \n",
      "253567                   1.0     1.0       1.0        1.0  44.0     0.0   \n",
      "253673                   0.0     1.0       0.0        1.0  42.0     0.0   \n",
      "253675                   0.0     1.0       1.0        1.0  45.0     0.0   \n",
      "\n",
      "        Stroke  Diabetes  PhysActivity  HvyAlcoholConsump  GenHlth  MentHlth  \\\n",
      "85         0.0       2.0           0.0                0.0      4.0       2.0   \n",
      "97         0.0       0.0           1.0                0.0      3.0       0.0   \n",
      "156        0.0       2.0           0.0                0.0      3.0       0.0   \n",
      "188        0.0       0.0           0.0                0.0      4.0       0.0   \n",
      "201        0.0       2.0           0.0                0.0      4.0       0.0   \n",
      "...        ...       ...           ...                ...      ...       ...   \n",
      "253547     0.0       0.0           1.0                0.0      4.0      14.0   \n",
      "253557     0.0       0.0           0.0                0.0      4.0      10.0   \n",
      "253567     0.0       0.0           0.0                0.0      3.0       0.0   \n",
      "253673     0.0       0.0           1.0                0.0      3.0      14.0   \n",
      "253675     0.0       0.0           0.0                0.0      3.0       0.0   \n",
      "\n",
      "        PhysHlth  Sex   Age  \n",
      "85          30.0  0.0   9.0  \n",
      "97           0.0  0.0   9.0  \n",
      "156          0.0  0.0  11.0  \n",
      "188          7.0  0.0  10.0  \n",
      "201         15.0  0.0  11.0  \n",
      "...          ...  ...   ...  \n",
      "253547      30.0  0.0   3.0  \n",
      "253557      20.0  0.0   6.0  \n",
      "253567       0.0  1.0  11.0  \n",
      "253673       4.0  1.0   3.0  \n",
      "253675       5.0  1.0   5.0  \n",
      "\n",
      "[10020 rows x 15 columns]\n"
     ]
    }
   ],
   "source": [
    "# Identify outliers based on the threshold\n",
    "outliers = df[abs(z_scores) > threshold]\n",
    "\n",
    "# Print outliers\n",
    "print(\"Outliers in BMI column:\")\n",
    "print(outliers)"
   ]
  },
  {
   "cell_type": "markdown",
   "id": "c55a70a6",
   "metadata": {},
   "source": [
    "*Here we identifies outliers in the \"BMI\" column of the DataFrame 'df' based on the threshold set earlier. It selects rows where the absolute z-score of the \"BMI\" column exceeds the threshold value. These rows are considered outliers and are stored in the 'outliers' variable. Finally, it prints out the identified outliers in the \"BMI\" column.*"
   ]
  },
  {
   "cell_type": "code",
   "execution_count": 16,
   "id": "1f27b8e2",
   "metadata": {},
   "outputs": [],
   "source": [
    "# Remove outliers from the DataFrame\n",
    "df = df[abs(z_scores) <= threshold]"
   ]
  },
  {
   "cell_type": "markdown",
   "id": "e0faf312",
   "metadata": {},
   "source": [
    "*Here we removes outliers from the DataFrame 'df'. It filters the DataFrame to keep only the rows where the absolute z-score of the \"BMI\" column is less than or equal to the threshold value. This effectively removes outliers from the dataset.*"
   ]
  },
  {
   "cell_type": "code",
   "execution_count": 17,
   "id": "1d27fe28",
   "metadata": {},
   "outputs": [
    {
     "name": "stdout",
     "output_type": "stream",
     "text": [
      "DataFrame shape before removing outliers: (243660, 15)\n",
      "DataFrame shape after removing outliers: (243660, 15)\n"
     ]
    }
   ],
   "source": [
    "# Print DataFrame shape before and after removing outliers\n",
    "print(\"DataFrame shape before removing outliers:\", df.shape)\n",
    "print(\"DataFrame shape after removing outliers:\", df.shape)"
   ]
  },
  {
   "cell_type": "markdown",
   "id": "f936d843",
   "metadata": {},
   "source": [
    "*DataFrame shape before removing outliers: (243660, 15)\n",
    "DataFrame shape after removing outliers: (243660, 15)\n",
    "*Here we does the following:\n",
    "\n",
    "Prints the shape of the DataFrame 'df' before removing outliers.\n",
    "Prints the shape of the DataFrame 'df' after removing outliers.\n",
    "In essence, it provides a before-and-after comparison of the DataFrame shape to demonstrate the effect of outlier removal on the dataset size*"
   ]
  },
  {
   "cell_type": "code",
   "execution_count": 18,
   "id": "2703e801",
   "metadata": {},
   "outputs": [
    {
     "data": {
      "image/png": "[encoded data removed]",
      "text/plain": [
       "<Figure size 640x480 with 1 Axes>"
      ]
     },
     "metadata": {},
     "output_type": "display_data"
    }
   ],
   "source": [
    "box_plot=df[\"BMI\"].plot.box()"
   ]
  },
  {
   "cell_type": "markdown",
   "id": "0e3b2030",
   "metadata": {},
   "source": [
    "*Here we creates a box plot specifically for the \"BMI\" column in the DataFrame 'df'. It visualizes the distribution of BMI values after removing outlier using a box-and-whisker plot.*"
   ]
  },
  {
   "cell_type": "code",
   "execution_count": 19,
   "id": "8db7420c",
   "metadata": {},
   "outputs": [
    {
     "data": {
      "image/png": "[encoded data removed]",
      "text/plain": [
       "<Figure size 640x480 with 1 Axes>"
      ]
     },
     "metadata": {},
     "output_type": "display_data"
    }
   ],
   "source": [
    "box_plot=df[\"Diabetes\"].plot.box()"
   ]
  },
  {
   "cell_type": "markdown",
   "id": "31479e1c",
   "metadata": {},
   "source": [
    "*Here we creates a box plot specifically for the \"Diabetes\" column in the DataFrame 'df'. It visualizes the distribution of Diabetes values using a box-and-whisker plot.*"
   ]
  },
  {
   "cell_type": "code",
   "execution_count": 20,
   "id": "f3530060",
   "metadata": {},
   "outputs": [
    {
     "name": "stdout",
     "output_type": "stream",
     "text": [
      "Z-scores:\n",
      "0        -0.411283\n",
      "1        -0.411283\n",
      "2        -0.411283\n",
      "3        -0.411283\n",
      "4        -0.411283\n",
      "            ...   \n",
      "253674   -0.411283\n",
      "253676    2.524723\n",
      "253677   -0.411283\n",
      "253678   -0.411283\n",
      "253679    2.524723\n",
      "Name: Diabetes, Length: 243660, dtype: float64\n",
      "Z-scores:\n",
      "0        -0.411283\n",
      "1        -0.411283\n",
      "2        -0.411283\n",
      "3        -0.411283\n",
      "4        -0.411283\n",
      "            ...   \n",
      "253674   -0.411283\n",
      "253676    2.524723\n",
      "253677   -0.411283\n",
      "253678   -0.411283\n",
      "253679    2.524723\n",
      "Name: Diabetes, Length: 243660, dtype: float64\n"
     ]
    }
   ],
   "source": [
    "# Assuming 'df' is your DataFrame containing the data\n",
    "# Calculate z-scores for the \"Diabetes\" column\n",
    "z_scores = zscore(df['Diabetes'])\n",
    "\n",
    "# Print Z-scores\n",
    "print(\"Z-scores:\")\n",
    "print(z_scores)\n",
    "\n",
    "# Set a threshold for outlier detection (e.g., 2 standard deviations)\n",
    "threshold = 2# Assuming 'df' is your DataFrame containing the data\n",
    "# Calculate z-scores for the \"Diabetes\" column\n",
    "z_scores = zscore(df['Diabetes'])\n",
    "\n",
    "# Print Z-scores\n",
    "print(\"Z-scores:\")\n",
    "print(z_scores)\n",
    "\n",
    "# Set a threshold for outlier detection (e.g., 2 standard deviations)\n",
    "threshold = 2"
   ]
  },
  {
   "cell_type": "markdown",
   "id": "70dfbed1",
   "metadata": {},
   "source": [
    "*Here calculates the z-scores for the \"Diabetes\" column in the DataFrame 'df' using the zscore function imported from scipy.stats. It then sets a threshold for outlier detection, typically 2 standard deviations from the mean. The calculated z-scores are printed out. These z-scores can be used to identify and potentially remove outliers from the dataset.*"
   ]
  },
  {
   "cell_type": "code",
   "execution_count": 21,
   "id": "cdd20f32",
   "metadata": {},
   "outputs": [
    {
     "name": "stdout",
     "output_type": "stream",
     "text": [
      "Outliers in Diabetes column:\n",
      "        HeartDiseaseorAttack  HighBP  HighChol  CholCheck   BMI  Smoker  \\\n",
      "8                        1.0     1.0       1.0        1.0  30.0     1.0   \n",
      "10                       0.0     0.0       0.0        1.0  25.0     1.0   \n",
      "13                       0.0     1.0       1.0        1.0  28.0     0.0   \n",
      "17                       0.0     0.0       0.0        1.0  23.0     1.0   \n",
      "23                       0.0     1.0       0.0        1.0  27.0     0.0   \n",
      "...                      ...     ...       ...        ...   ...     ...   \n",
      "253659                   0.0     0.0       1.0        1.0  37.0     0.0   \n",
      "253668                   1.0     0.0       1.0        1.0  29.0     1.0   \n",
      "253670                   1.0     1.0       1.0        1.0  25.0     0.0   \n",
      "253676                   0.0     1.0       1.0        1.0  18.0     0.0   \n",
      "253679                   1.0     1.0       1.0        1.0  25.0     0.0   \n",
      "\n",
      "        Stroke  Diabetes  PhysActivity  HvyAlcoholConsump  GenHlth  MentHlth  \\\n",
      "8          0.0       2.0           0.0                0.0      5.0      30.0   \n",
      "10         0.0       2.0           1.0                0.0      3.0       0.0   \n",
      "13         0.0       2.0           0.0                0.0      4.0       0.0   \n",
      "17         0.0       2.0           1.0                0.0      2.0       0.0   \n",
      "23         0.0       2.0           1.0                0.0      1.0       0.0   \n",
      "...        ...       ...           ...                ...      ...       ...   \n",
      "253659     0.0       2.0           0.0                0.0      4.0       0.0   \n",
      "253668     0.0       2.0           0.0                0.0      2.0       0.0   \n",
      "253670     0.0       2.0           0.0                0.0      5.0      15.0   \n",
      "253676     0.0       2.0           0.0                0.0      4.0       0.0   \n",
      "253679     0.0       2.0           1.0                0.0      2.0       0.0   \n",
      "\n",
      "        PhysHlth  Sex   Age  \n",
      "8           30.0  0.0   9.0  \n",
      "10           0.0  1.0  13.0  \n",
      "13           0.0  0.0  11.0  \n",
      "17           0.0  1.0   7.0  \n",
      "23           0.0  0.0  13.0  \n",
      "...          ...  ...   ...  \n",
      "253659       0.0  0.0   6.0  \n",
      "253668       0.0  1.0  10.0  \n",
      "253670       0.0  0.0  13.0  \n",
      "253676       0.0  0.0  11.0  \n",
      "253679       0.0  0.0   9.0  \n",
      "\n",
      "[31963 rows x 15 columns]\n"
     ]
    }
   ],
   "source": [
    "# Identify outliers based on the threshold\n",
    "outliers = df[abs(z_scores) > threshold]\n",
    "\n",
    "# Print outliers\n",
    "print(\"Outliers in Diabetes column:\")\n",
    "print(outliers)"
   ]
  },
  {
   "cell_type": "markdown",
   "id": "883182fe",
   "metadata": {},
   "source": [
    "*Here we identifies outliers in the \"Diabetes\" column of the DataFrame 'df' based on the threshold set earlier. It selects rows where the absolute z-score of the \"Diabetes\" column exceeds the threshold value. These rows are considered outliers and are stored in the 'outliers' variable. Finally, it prints out the identified outliers in the \"Diabetes\" column.*"
   ]
  },
  {
   "cell_type": "code",
   "execution_count": 22,
   "id": "69ed85e3",
   "metadata": {},
   "outputs": [],
   "source": [
    "# Remove outliers from the DataFrame\n",
    "df = df[abs(z_scores) <= threshold]\n"
   ]
  },
  {
   "cell_type": "markdown",
   "id": "99da8e60",
   "metadata": {},
   "source": [
    "*Here we removes outliers from the DataFrame 'df'. It filters the DataFrame to keep only the rows where the absolute z-score of the \"Diabetes\" column is less than or equal to the threshold value. This effectively removes outliers from the dataset.*"
   ]
  },
  {
   "cell_type": "code",
   "execution_count": 23,
   "id": "603fea06",
   "metadata": {},
   "outputs": [
    {
     "name": "stdout",
     "output_type": "stream",
     "text": [
      "DataFrame shape before removing outliers: (211697, 15)\n",
      "DataFrame shape after removing outliers: (211697, 15)\n"
     ]
    }
   ],
   "source": [
    "# Print DataFrame shape before and after removing outliers\n",
    "print(\"DataFrame shape before removing outliers:\", df.shape)\n",
    "print(\"DataFrame shape after removing outliers:\", df.shape)\n"
   ]
  },
  {
   "cell_type": "markdown",
   "id": "734afdb1",
   "metadata": {},
   "source": [
    "*Here we does the following:\n",
    "Prints the shape of the DataFrame 'df' before removing outliers. Prints the shape of the DataFrame 'df' after removing outliers. In essence, it provides a before-and-after comparison of the DataFrame shape to demonstrate the effect of outlier removal on the dataset size.*"
   ]
  },
  {
   "cell_type": "code",
   "execution_count": 24,
   "id": "7311879a",
   "metadata": {},
   "outputs": [
    {
     "data": {
      "image/png": "[encoded data removed]",
      "text/plain": [
       "<Figure size 640x480 with 1 Axes>"
      ]
     },
     "metadata": {},
     "output_type": "display_data"
    }
   ],
   "source": [
    "box_plot=df[\"Diabetes\"].plot.box()"
   ]
  },
  {
   "cell_type": "markdown",
   "id": "0ea184a0",
   "metadata": {},
   "source": [
    "*Here we creates a box plot specifically for the \"Diabetes\" column in the DataFrame 'df'. It visualizes the distribution of Diabetes values after removing outlier using a box-and-whisker plot.*"
   ]
  },
  {
   "cell_type": "code",
   "execution_count": 25,
   "id": "4b5d3158",
   "metadata": {},
   "outputs": [
    {
     "data": {
      "image/png": "[encoded data removed]",
      "text/plain": [
       "<Figure size 640x480 with 1 Axes>"
      ]
     },
     "metadata": {},
     "output_type": "display_data"
    }
   ],
   "source": [
    "box_plot=df[\"MentHlth\"].plot.box()"
   ]
  },
  {
   "cell_type": "markdown",
   "id": "5b95cd66",
   "metadata": {},
   "source": [
    "*Here we creates a box plot specifically for the \"MentHlth\" column in the DataFrame 'df'. It visualizes the distribution of MentHlth values using a box-and-whisker plot.*"
   ]
  },
  {
   "cell_type": "code",
   "execution_count": 26,
   "id": "7447749d",
   "metadata": {},
   "outputs": [
    {
     "name": "stdout",
     "output_type": "stream",
     "text": [
      "Z-scores:\n",
      "0         2.153270\n",
      "1        -0.413523\n",
      "2         3.864466\n",
      "3        -0.413523\n",
      "4         0.014276\n",
      "            ...   \n",
      "253671   -0.413523\n",
      "253672   -0.413523\n",
      "253674   -0.413523\n",
      "253677   -0.413523\n",
      "253678   -0.413523\n",
      "Name: MentHlth, Length: 211697, dtype: float64\n",
      "Z-scores:\n",
      "0         2.153270\n",
      "1        -0.413523\n",
      "2         3.864466\n",
      "3        -0.413523\n",
      "4         0.014276\n",
      "            ...   \n",
      "253671   -0.413523\n",
      "253672   -0.413523\n",
      "253674   -0.413523\n",
      "253677   -0.413523\n",
      "253678   -0.413523\n",
      "Name: MentHlth, Length: 211697, dtype: float64\n"
     ]
    }
   ],
   "source": [
    "# Assuming 'df' is your DataFrame containing the data\n",
    "# Calculate z-scores for the \"MentHlth\" column\n",
    "z_scores = zscore(df['MentHlth'])\n",
    "\n",
    "# Print Z-scores\n",
    "print(\"Z-scores:\")\n",
    "print(z_scores)\n",
    "\n",
    "# Set a threshold for outlier detection (e.g., 2 standard deviations)\n",
    "threshold = 2# Assuming 'df' is your DataFrame containing the data\n",
    "# Calculate z-scores for the \"MentHlth\" column\n",
    "z_scores = zscore(df['MentHlth'])\n",
    "\n",
    "# Print Z-scores\n",
    "print(\"Z-scores:\")\n",
    "print(z_scores)\n",
    "\n",
    "# Set a threshold for outlier detection (e.g., 2 standard deviations)\n",
    "threshold = 2"
   ]
  },
  {
   "cell_type": "markdown",
   "id": "25ec0fda",
   "metadata": {},
   "source": [
    "*Here calculates the z-scores for the \"MentHlth\" column in the DataFrame 'df' using the zscore function imported from scipy.stats. It then sets a threshold for outlier detection, typically 2 standard deviations from the mean. The calculated z-scores are printed out. These z-scores can be used to identify and potentially remove outliers from the dataset.*"
   ]
  },
  {
   "cell_type": "code",
   "execution_count": 27,
   "id": "31c9cbce",
   "metadata": {},
   "outputs": [
    {
     "name": "stdout",
     "output_type": "stream",
     "text": [
      "Outliers in MentHlth column:\n",
      "        HeartDiseaseorAttack  HighBP  HighChol  CholCheck   BMI  Smoker  \\\n",
      "0                        0.0     1.0       1.0        1.0  40.0     1.0   \n",
      "2                        0.0     1.0       1.0        1.0  28.0     0.0   \n",
      "14                       0.0     0.0       1.0        1.0  33.0     1.0   \n",
      "20                       1.0     1.0       1.0        1.0  22.0     0.0   \n",
      "43                       0.0     1.0       0.0        1.0  23.0     1.0   \n",
      "...                      ...     ...       ...        ...   ...     ...   \n",
      "253611                   0.0     0.0       0.0        1.0  23.0     0.0   \n",
      "253635                   0.0     1.0       1.0        1.0  27.0     0.0   \n",
      "253640                   0.0     0.0       0.0        1.0  30.0     0.0   \n",
      "253649                   0.0     0.0       1.0        1.0  27.0     0.0   \n",
      "253665                   0.0     0.0       1.0        1.0  17.0     0.0   \n",
      "\n",
      "        Stroke  Diabetes  PhysActivity  HvyAlcoholConsump  GenHlth  MentHlth  \\\n",
      "0          0.0       0.0           0.0                0.0      5.0      18.0   \n",
      "2          0.0       0.0           0.0                0.0      5.0      30.0   \n",
      "14         1.0       0.0           1.0                0.0      4.0      30.0   \n",
      "20         1.0       0.0           0.0                0.0      3.0      30.0   \n",
      "43         0.0       0.0           1.0                0.0      2.0      25.0   \n",
      "...        ...       ...           ...                ...      ...       ...   \n",
      "253611     0.0       0.0           1.0                0.0      3.0      25.0   \n",
      "253635     0.0       0.0           0.0                0.0      4.0      30.0   \n",
      "253640     0.0       0.0           1.0                0.0      4.0      30.0   \n",
      "253649     0.0       0.0           0.0                0.0      2.0      30.0   \n",
      "253665     0.0       0.0           0.0                0.0      4.0      30.0   \n",
      "\n",
      "        PhysHlth  Sex   Age  \n",
      "0           15.0  0.0   9.0  \n",
      "2           30.0  0.0   9.0  \n",
      "14          28.0  0.0   4.0  \n",
      "20           0.0  0.0  12.0  \n",
      "43           0.0  0.0   9.0  \n",
      "...          ...  ...   ...  \n",
      "253611       5.0  0.0   2.0  \n",
      "253635      21.0  0.0   9.0  \n",
      "253640       0.0  0.0   5.0  \n",
      "253649       5.0  0.0   4.0  \n",
      "253665      30.0  0.0   5.0  \n",
      "\n",
      "[12976 rows x 15 columns]\n"
     ]
    }
   ],
   "source": [
    "# Identify outliers based on the threshold\n",
    "outliers = df[abs(z_scores) > threshold]\n",
    "\n",
    "# Print outliers\n",
    "print(\"Outliers in MentHlth column:\")\n",
    "print(outliers)"
   ]
  },
  {
   "cell_type": "markdown",
   "id": "0e62cae6",
   "metadata": {},
   "source": [
    "*Here we identifies outliers in the \"MentHlth\" column of the DataFrame 'df' based on the threshold set earlier. It selects rows where the absolute z-score of the \"MentHlth\" column exceeds the threshold value. These rows are considered outliers and are stored in the 'outliers' variable. Finally, it prints out the identified outliers in the \"MentHlth\" column.*"
   ]
  },
  {
   "cell_type": "code",
   "execution_count": 28,
   "id": "f9e99bb2",
   "metadata": {},
   "outputs": [],
   "source": [
    "# Remove outliers from the DataFrame\n",
    "df = df[abs(z_scores) <= threshold]\n"
   ]
  },
  {
   "cell_type": "markdown",
   "id": "2ecba1c9",
   "metadata": {},
   "source": [
    "*Here we removes outliers from the DataFrame 'df'. It filters the DataFrame to keep only the rows where the absolute z-score of the \"MentHlth\" column is less than or equal to the threshold value. This effectively removes outliers from the dataset.*"
   ]
  },
  {
   "cell_type": "code",
   "execution_count": 29,
   "id": "723ba1c7",
   "metadata": {},
   "outputs": [
    {
     "name": "stdout",
     "output_type": "stream",
     "text": [
      "DataFrame shape before removing outliers: (198721, 15)\n",
      "DataFrame shape after removing outliers: (198721, 15)\n"
     ]
    }
   ],
   "source": [
    "# Print DataFrame shape before and after removing outliers\n",
    "print(\"DataFrame shape before removing outliers:\", df.shape)\n",
    "print(\"DataFrame shape after removing outliers:\", df.shape)\n"
   ]
  },
  {
   "cell_type": "markdown",
   "id": "b281e219",
   "metadata": {},
   "source": [
    "*Here we does the following:\n",
    "\n",
    "Prints the shape of the DataFrame 'df' before removing outliers. Prints the shape of the DataFrame 'df' after removing outliers. In essence, it provides a before-and-after comparison of the DataFrame shape to demonstrate the effect of outlier removal on the dataset size.*"
   ]
  },
  {
   "cell_type": "code",
   "execution_count": 30,
   "id": "14cc288d",
   "metadata": {},
   "outputs": [
    {
     "data": {
      "image/png": "[encoded data removed]",
      "text/plain": [
       "<Figure size 640x480 with 1 Axes>"
      ]
     },
     "metadata": {},
     "output_type": "display_data"
    }
   ],
   "source": [
    "box_plot=df[\"MentHlth\"].plot.box()"
   ]
  },
  {
   "cell_type": "markdown",
   "id": "2c1c0ed4",
   "metadata": {},
   "source": [
    "*Here we creates a box plot specifically for the \"MentHlth\" column in the DataFrame 'df'. It visualizes the distribution of MentHlth values after removing outlier using a box-and-whisker plot.*"
   ]
  },
  {
   "cell_type": "code",
   "execution_count": 31,
   "id": "c7e996f6",
   "metadata": {},
   "outputs": [
    {
     "data": {
      "image/png": "[encoded data removed]",
      "text/plain": [
       "<Figure size 640x480 with 1 Axes>"
      ]
     },
     "metadata": {},
     "output_type": "display_data"
    }
   ],
   "source": [
    "box_plot=df[\"PhysHlth\"].plot.box()"
   ]
  },
  {
   "cell_type": "markdown",
   "id": "3cdb9eff",
   "metadata": {},
   "source": [
    "*Here we creates a box plot specifically for the \"PhysHlth\" column in the DataFrame 'df'. It visualizes the distribution of PhysHlth values using a box-and-whisker plot.*"
   ]
  },
  {
   "cell_type": "code",
   "execution_count": 32,
   "id": "6147d0e4",
   "metadata": {},
   "outputs": [
    {
     "name": "stdout",
     "output_type": "stream",
     "text": [
      "Z-scores:\n",
      "1        -0.412638\n",
      "3        -0.412638\n",
      "4        -0.412638\n",
      "5        -0.133095\n",
      "6         1.544161\n",
      "            ...   \n",
      "253671    0.286219\n",
      "253672   -0.412638\n",
      "253674   -0.412638\n",
      "253677   -0.412638\n",
      "253678   -0.412638\n",
      "Name: PhysHlth, Length: 198721, dtype: float64\n",
      "Z-scores:\n",
      "1        -0.412638\n",
      "3        -0.412638\n",
      "4        -0.412638\n",
      "5        -0.133095\n",
      "6         1.544161\n",
      "            ...   \n",
      "253671    0.286219\n",
      "253672   -0.412638\n",
      "253674   -0.412638\n",
      "253677   -0.412638\n",
      "253678   -0.412638\n",
      "Name: PhysHlth, Length: 198721, dtype: float64\n"
     ]
    }
   ],
   "source": [
    "# Assuming 'df' is your DataFrame containing the data\n",
    "# Calculate z-scores for the \"PhysHlth\" column\n",
    "z_scores = zscore(df['PhysHlth'])\n",
    "\n",
    "# Print Z-scores\n",
    "print(\"Z-scores:\")\n",
    "print(z_scores)\n",
    "\n",
    "# Set a threshold for outlier detection (e.g., 2 standard deviations)\n",
    "threshold = 2# Assuming 'df' is your DataFrame containing the data\n",
    "# Calculate z-scores for the \"PhysHlth\" column\n",
    "z_scores = zscore(df['PhysHlth'])\n",
    "\n",
    "# Print Z-scores\n",
    "print(\"Z-scores:\")\n",
    "print(z_scores)\n",
    "\n",
    "# Set a threshold for outlier detection (e.g., 2 standard deviations)\n",
    "threshold = 2"
   ]
  },
  {
   "cell_type": "markdown",
   "id": "6863086b",
   "metadata": {},
   "source": [
    "*Here calculates the z-scores for the \"PhysHlth\" column in the DataFrame 'df' using the zscore function imported from scipy.stats. It then sets a threshold for outlier detection, typically 2 standard deviations from the mean. The calculated z-scores are printed out. These z-scores can be used to identify and potentially remove outliers from the dataset.*"
   ]
  },
  {
   "cell_type": "code",
   "execution_count": 33,
   "id": "6da5e3d2",
   "metadata": {},
   "outputs": [
    {
     "name": "stdout",
     "output_type": "stream",
     "text": [
      "Outliers in PhysHlth column:\n",
      "        HeartDiseaseorAttack  HighBP  HighChol  CholCheck   BMI  Smoker  \\\n",
      "11                       0.0     1.0       1.0        1.0  34.0     1.0   \n",
      "21                       0.0     1.0       1.0        1.0  38.0     1.0   \n",
      "39                       0.0     1.0       1.0        1.0  24.0     1.0   \n",
      "42                       0.0     0.0       0.0        1.0  28.0     1.0   \n",
      "105                      0.0     1.0       0.0        1.0  30.0     0.0   \n",
      "...                      ...     ...       ...        ...   ...     ...   \n",
      "253606                   0.0     1.0       1.0        1.0  23.0     1.0   \n",
      "253608                   0.0     0.0       0.0        1.0  29.0     0.0   \n",
      "253620                   0.0     1.0       0.0        1.0  23.0     1.0   \n",
      "253626                   0.0     0.0       0.0        1.0  29.0     0.0   \n",
      "253663                   0.0     0.0       0.0        1.0  23.0     0.0   \n",
      "\n",
      "        Stroke  Diabetes  PhysActivity  HvyAlcoholConsump  GenHlth  MentHlth  \\\n",
      "11         0.0       0.0           0.0                0.0      3.0       0.0   \n",
      "21         0.0       0.0           0.0                0.0      5.0      15.0   \n",
      "39         0.0       0.0           0.0                0.0      5.0       0.0   \n",
      "42         1.0       0.0           0.0                0.0      4.0      15.0   \n",
      "105        0.0       0.0           1.0                0.0      3.0       0.0   \n",
      "...        ...       ...           ...                ...      ...       ...   \n",
      "253606     0.0       0.0           0.0                0.0      4.0       5.0   \n",
      "253608     0.0       0.0           1.0                0.0      4.0       0.0   \n",
      "253620     0.0       0.0           0.0                0.0      3.0       0.0   \n",
      "253626     0.0       0.0           0.0                0.0      5.0      10.0   \n",
      "253663     0.0       0.0           0.0                0.0      2.0       0.0   \n",
      "\n",
      "        PhysHlth  Sex   Age  \n",
      "11          30.0  0.0  10.0  \n",
      "21          30.0  0.0  13.0  \n",
      "39          30.0  1.0   9.0  \n",
      "42          30.0  0.0   7.0  \n",
      "105         30.0  0.0  10.0  \n",
      "...          ...  ...   ...  \n",
      "253606      20.0  0.0  10.0  \n",
      "253608      30.0  0.0   3.0  \n",
      "253620      30.0  1.0   7.0  \n",
      "253626      30.0  0.0   5.0  \n",
      "253663      30.0  0.0   5.0  \n",
      "\n",
      "[12460 rows x 15 columns]\n"
     ]
    }
   ],
   "source": [
    "# Identify outliers based on the threshold\n",
    "outliers = df[abs(z_scores) > threshold]\n",
    "\n",
    "# Print outliers\n",
    "print(\"Outliers in PhysHlth column:\")\n",
    "print(outliers)"
   ]
  },
  {
   "cell_type": "markdown",
   "id": "bdaf4d8e",
   "metadata": {},
   "source": [
    "*Here we identifies outliers in the \"PhysHlth\" column of the DataFrame 'df' based on the threshold set earlier. It selects rows where the absolute z-score of the \"PhysHlth\" column exceeds the threshold value. These rows are considered outliers and are stored in the 'outliers' variable. Finally, it prints out the identified outliers in the \"PhysHlth\" column.*"
   ]
  },
  {
   "cell_type": "code",
   "execution_count": 34,
   "id": "adff9bf2",
   "metadata": {},
   "outputs": [],
   "source": [
    "# Remove outliers from the DataFrame\n",
    "df = df[abs(z_scores) <= threshold]\n"
   ]
  },
  {
   "cell_type": "markdown",
   "id": "e2f505ac",
   "metadata": {},
   "source": [
    "*Here we removes outliers from the DataFrame 'df'. It filters the DataFrame to keep only the rows where the absolute z-score of the \"PhysHlth\" column is less than or equal to the threshold value. This effectively removes outliers from the dataset.*"
   ]
  },
  {
   "cell_type": "code",
   "execution_count": 35,
   "id": "88c38010",
   "metadata": {},
   "outputs": [
    {
     "name": "stdout",
     "output_type": "stream",
     "text": [
      "DataFrame shape before removing outliers: (186261, 15)\n",
      "DataFrame shape after removing outliers: (186261, 15)\n"
     ]
    }
   ],
   "source": [
    "# Print DataFrame shape before and after removing outliers\n",
    "print(\"DataFrame shape before removing outliers:\", df.shape)\n",
    "print(\"DataFrame shape after removing outliers:\", df.shape)\n"
   ]
  },
  {
   "cell_type": "markdown",
   "id": "2dc2acd0",
   "metadata": {},
   "source": [
    "*Here we does the following:\n",
    "\n",
    "Prints the shape of the DataFrame 'df' before removing outliers. Prints the shape of the DataFrame 'df' after removing outliers. In essence, it provides a before-and-after comparison of the DataFrame shape to demonstrate the effect of outlier removal on the dataset size.*"
   ]
  },
  {
   "cell_type": "code",
   "execution_count": 36,
   "id": "67b19435",
   "metadata": {},
   "outputs": [
    {
     "data": {
      "image/png": "[encoded data removed]",
      "text/plain": [
       "<Figure size 640x480 with 1 Axes>"
      ]
     },
     "metadata": {},
     "output_type": "display_data"
    }
   ],
   "source": [
    "box_plot=df[\"PhysHlth\"].plot.box()"
   ]
  },
  {
   "cell_type": "markdown",
   "id": "be59689a",
   "metadata": {},
   "source": [
    "*Here we creates a box plot specifically for the \"PhysHlth\" column in the DataFrame 'df'. It visualizes the distribution of PhyHlth values after removing outlier using a box-and-whisker plot.*"
   ]
  },
  {
   "cell_type": "code",
   "execution_count": 37,
   "id": "bc8ee865",
   "metadata": {},
   "outputs": [
    {
     "data": {
      "text/plain": [
       "array([0., 1.])"
      ]
     },
     "execution_count": 37,
     "metadata": {},
     "output_type": "execute_result"
    }
   ],
   "source": [
    "df[\"HeartDiseaseorAttack\"].unique()"
   ]
  },
  {
   "cell_type": "markdown",
   "id": "79bb0b2e",
   "metadata": {},
   "source": [
    "*There are two unique values 0.0 and 0.1 in \"HeartDiseaseorAttack\" column.* "
   ]
  },
  {
   "cell_type": "code",
   "execution_count": 38,
   "id": "cc499cc0",
   "metadata": {},
   "outputs": [
    {
     "data": {
      "image/png": "[encoded data removed]",
      "text/plain": [
       "<Figure size 1000x500 with 1 Axes>"
      ]
     },
     "metadata": {},
     "output_type": "display_data"
    }
   ],
   "source": [
    "plt.figure(figsize=(10,5))\n",
    "df0=df[df['HeartDiseaseorAttack']==0]\n",
    "df1=df[df['HeartDiseaseorAttack']==1]\n",
    "sns.scatterplot(df1['Age'].head(500),label=\"1\")\n",
    "sns.scatterplot(df0['Age'].head(500),label=\"0\")\n",
    "plt.title(\"Age of people having heart disease and not having heart disease\")\n",
    "plt.ylabel(\"Age\")\n",
    "plt.xlabel(\"Range\")\n",
    "plt.legend()\n",
    "plt.show()"
   ]
  },
  {
   "cell_type": "markdown",
   "id": "22a8d4dc",
   "metadata": {},
   "source": [
    "*Here we create a scatter plot comparing the ages of people with and without heart disease. It selects a subset of data for each group (df1 for individuals with heart disease and df0 for individuals without heart disease), plots their ages and lebels them accordingly. The plot is then displayed with labels and title*"
   ]
  },
  {
   "cell_type": "code",
   "execution_count": 39,
   "id": "905bcf7d",
   "metadata": {},
   "outputs": [
    {
     "name": "stdout",
     "output_type": "stream",
     "text": [
      "1.0    7044\n",
      "0.0    4514\n",
      "Name: Sex, dtype: int64\n"
     ]
    },
    {
     "data": {
      "image/png": "[encoded data removed]",
      "text/plain": [
       "<Figure size 640x480 with 1 Axes>"
      ]
     },
     "metadata": {},
     "output_type": "display_data"
    }
   ],
   "source": [
    "print(df1['Sex'].value_counts())\n",
    "l=list((df1['Sex'].value_counts()))\n",
    "l\n",
    "plt.pie(l,labels=['male','female'],autopct='%1.1f%%', startangle=140)\n",
    "plt.show()"
   ]
  },
  {
   "cell_type": "markdown",
   "id": "e43649dc",
   "metadata": {},
   "source": [
    "*Here we counts the count of males and females with heart disease(df1) then create a pie chart to visualize the distribution of genders among individuals with heart disease*"
   ]
  },
  {
   "cell_type": "code",
   "execution_count": 40,
   "id": "f2f04b6d",
   "metadata": {},
   "outputs": [
    {
     "data": {
      "image/png": "[encoded data removed]",
      "text/plain": [
       "<Figure size 600x400 with 1 Axes>"
      ]
     },
     "metadata": {},
     "output_type": "display_data"
    }
   ],
   "source": [
    "hd = (df[\"HeartDiseaseorAttack\"]== 1).sum()\n",
    "nohd = (df[\"HeartDiseaseorAttack\"]==0).sum()\n",
    "\n",
    "sizes = [hd,nohd]\n",
    "labels = ['Heart Disease','No Heart Disease']\n",
    "\n",
    "plt.figure(figsize=(6,4))\n",
    "plt.pie(sizes, labels=labels, autopct='%1.1f%%', startangle=140)\n",
    "plt.title('Heart Disease Rate')\n",
    "\n",
    "plt.axis('equal')\n",
    "plt.show()"
   ]
  },
  {
   "cell_type": "markdown",
   "id": "e5dfbd7c",
   "metadata": {},
   "source": [
    "*Here we calculate the count of individauls with heart disease and without heart disease in the dataframe . Then we creates a pie chart to display the distribution of heart disease status among the dataset, with percentage labeled on each slice.*"
   ]
  },
  {
   "cell_type": "code",
   "execution_count": 41,
   "id": "64060cb6",
   "metadata": {},
   "outputs": [
    {
     "data": {
      "text/plain": [
       "Index(['HeartDiseaseorAttack', 'HighBP', 'HighChol', 'CholCheck', 'BMI',\n",
       "       'Smoker', 'Stroke', 'Diabetes', 'PhysActivity', 'HvyAlcoholConsump',\n",
       "       'GenHlth', 'MentHlth', 'PhysHlth', 'Sex', 'Age'],\n",
       "      dtype='object')"
      ]
     },
     "execution_count": 41,
     "metadata": {},
     "output_type": "execute_result"
    }
   ],
   "source": [
    "df.columns"
   ]
  },
  {
   "cell_type": "markdown",
   "id": "b2893875",
   "metadata": {},
   "source": [
    "*Here are the different columns in our dataframe*"
   ]
  },
  {
   "cell_type": "markdown",
   "id": "d37785a4",
   "metadata": {},
   "source": [
    "Lets split the data into train and test."
   ]
  },
  {
   "cell_type": "code",
   "execution_count": 42,
   "id": "549a5618",
   "metadata": {},
   "outputs": [],
   "source": [
    "y=df[[\"HeartDiseaseorAttack\"]]\n",
    "x=df.drop(\"HeartDiseaseorAttack\",axis=1)\n"
   ]
  },
  {
   "cell_type": "markdown",
   "id": "1b6ef127",
   "metadata": {},
   "source": [
    "*Here we separates the target variable \"HeartDiseaseorAttack\" into a separate dataframe 'y' and the remaining features into another dataframe 'x'. This sepration is typically done to prepare the data for machine learning modeling , where 'x' represents the features used for prediction , and 'y' represents the target variable to be predicted*"
   ]
  },
  {
   "cell_type": "code",
   "execution_count": 43,
   "id": "bb33b661",
   "metadata": {},
   "outputs": [],
   "source": [
    "x_train,x_test,y_train,y_test=train_test_split(x,y,test_size=0.2,random_state=1)"
   ]
  },
  {
   "cell_type": "markdown",
   "id": "9accc48f",
   "metadata": {},
   "source": [
    "*Here we split the dataset into training and testing sets fro both features (x) and the target variable (y). This is done to asses the performance of machine learning models. The training set(x_test,y_test) is used to evaluate its performance. The \"test_size\" parameter specifies the proportion of the dataset to include in the testing set, and \"random_state\" ensures reproducilility by fixing the random seed for the split.*"
   ]
  },
  {
   "cell_type": "code",
   "execution_count": 44,
   "id": "7bdf4a7e",
   "metadata": {},
   "outputs": [
    {
     "name": "stdout",
     "output_type": "stream",
     "text": [
      "(149008, 14)\n",
      "(149008, 1)\n"
     ]
    }
   ],
   "source": [
    "print(x_train.shape)\n",
    "print(y_train.shape)"
   ]
  },
  {
   "cell_type": "markdown",
   "id": "0519b692",
   "metadata": {},
   "source": [
    "*Here we prints the shapes(diamensions) of the training sets for features(x_train). This helps to confirm the size of the training data fitting a machine learning model.*"
   ]
  },
  {
   "cell_type": "markdown",
   "id": "c53a8f5b",
   "metadata": {},
   "source": [
    "## Model 1 : Logistic Regression"
   ]
  },
  {
   "cell_type": "code",
   "execution_count": 45,
   "id": "1b5b8783",
   "metadata": {},
   "outputs": [],
   "source": [
    "from sklearn.linear_model import LogisticRegression\n",
    "from sklearn.metrics import confusion_matrix"
   ]
  },
  {
   "cell_type": "markdown",
   "id": "647bbbd8",
   "metadata": {},
   "source": [
    "*Here we import the LogisticRegression from the scikit-learn library for logistic regression modeling. Additionally , we imported confusion_matrix from sklearn.metrics to evaluate the performance of our model by comparing labels with true labels.*"
   ]
  },
  {
   "cell_type": "code",
   "execution_count": 46,
   "id": "3037b474",
   "metadata": {},
   "outputs": [],
   "source": [
    "model=LogisticRegression()"
   ]
  },
  {
   "cell_type": "markdown",
   "id": "a002f158",
   "metadata": {},
   "source": [
    "*Here we instantiated a logistic regression model object named \"model\" using the default parameters provided by scikit-learns's LogisticRegression() function.*"
   ]
  },
  {
   "cell_type": "code",
   "execution_count": 47,
   "id": "9554cb87",
   "metadata": {},
   "outputs": [
    {
     "data": {
      "text/html": [
       "<style>#sk-container-id-1 {color: black;background-color: white;}#sk-container-id-1 pre{padding: 0;}#sk-container-id-1 div.sk-toggleable {background-color: white;}#sk-container-id-1 label.sk-toggleable__label {cursor: pointer;display: block;width: 100%;margin-bottom: 0;padding: 0.3em;box-sizing: border-box;text-align: center;}#sk-container-id-1 label.sk-toggleable__label-arrow:before {content: \"▸\";float: left;margin-right: 0.25em;color: #696969;}#sk-container-id-1 label.sk-toggleable__label-arrow:hover:before {color: black;}#sk-container-id-1 div.sk-estimator:hover label.sk-toggleable__label-arrow:before {color: black;}#sk-container-id-1 div.sk-toggleable__content {max-height: 0;max-width: 0;overflow: hidden;text-align: left;background-color: #f0f8ff;}#sk-container-id-1 div.sk-toggleable__content pre {margin: 0.2em;color: black;border-radius: 0.25em;background-color: #f0f8ff;}#sk-container-id-1 input.sk-toggleable__control:checked~div.sk-toggleable__content {max-height: 200px;max-width: 100%;overflow: auto;}#sk-container-id-1 input.sk-toggleable__control:checked~label.sk-toggleable__label-arrow:before {content: \"▾\";}#sk-container-id-1 div.sk-estimator input.sk-toggleable__control:checked~label.sk-toggleable__label {background-color: #d4ebff;}#sk-container-id-1 div.sk-label input.sk-toggleable__control:checked~label.sk-toggleable__label {background-color: #d4ebff;}#sk-container-id-1 input.sk-hidden--visually {border: 0;clip: rect(1px 1px 1px 1px);clip: rect(1px, 1px, 1px, 1px);height: 1px;margin: -1px;overflow: hidden;padding: 0;position: absolute;width: 1px;}#sk-container-id-1 div.sk-estimator {font-family: monospace;background-color: #f0f8ff;border: 1px dotted black;border-radius: 0.25em;box-sizing: border-box;margin-bottom: 0.5em;}#sk-container-id-1 div.sk-estimator:hover {background-color: #d4ebff;}#sk-container-id-1 div.sk-parallel-item::after {content: \"\";width: 100%;border-bottom: 1px solid gray;flex-grow: 1;}#sk-container-id-1 div.sk-label:hover label.sk-toggleable__label {background-color: #d4ebff;}#sk-container-id-1 div.sk-serial::before {content: \"\";position: absolute;border-left: 1px solid gray;box-sizing: border-box;top: 0;bottom: 0;left: 50%;z-index: 0;}#sk-container-id-1 div.sk-serial {display: flex;flex-direction: column;align-items: center;background-color: white;padding-right: 0.2em;padding-left: 0.2em;position: relative;}#sk-container-id-1 div.sk-item {position: relative;z-index: 1;}#sk-container-id-1 div.sk-parallel {display: flex;align-items: stretch;justify-content: center;background-color: white;position: relative;}#sk-container-id-1 div.sk-item::before, #sk-container-id-1 div.sk-parallel-item::before {content: \"\";position: absolute;border-left: 1px solid gray;box-sizing: border-box;top: 0;bottom: 0;left: 50%;z-index: -1;}#sk-container-id-1 div.sk-parallel-item {display: flex;flex-direction: column;z-index: 1;position: relative;background-color: white;}#sk-container-id-1 div.sk-parallel-item:first-child::after {align-self: flex-end;width: 50%;}#sk-container-id-1 div.sk-parallel-item:last-child::after {align-self: flex-start;width: 50%;}#sk-container-id-1 div.sk-parallel-item:only-child::after {width: 0;}#sk-container-id-1 div.sk-dashed-wrapped {border: 1px dashed gray;margin: 0 0.4em 0.5em 0.4em;box-sizing: border-box;padding-bottom: 0.4em;background-color: white;}#sk-container-id-1 div.sk-label label {font-family: monospace;font-weight: bold;display: inline-block;line-height: 1.2em;}#sk-container-id-1 div.sk-label-container {text-align: center;}#sk-container-id-1 div.sk-container {/* jupyter's `normalize.less` sets `[hidden] { display: none; }` but bootstrap.min.css set `[hidden] { display: none !important; }` so we also need the `!important` here to be able to override the default hidden behavior on the sphinx rendered scikit-learn.org. See: https://github.com/scikit-learn/scikit-learn/issues/21755 */display: inline-block !important;position: relative;}#sk-container-id-1 div.sk-text-repr-fallback {display: none;}</style><div id=\"sk-container-id-1\" class=\"sk-top-container\"><div class=\"sk-text-repr-fallback\"><pre>LogisticRegression()</pre><b>In a Jupyter environment, please rerun this cell to show the HTML representation or trust the notebook. <br />On GitHub, the HTML representation is unable to render, please try loading this page with nbviewer.org.</b></div><div class=\"sk-container\" hidden><div class=\"sk-item\"><div class=\"sk-estimator sk-toggleable\"><input class=\"sk-toggleable__control sk-hidden--visually\" id=\"sk-estimator-id-1\" type=\"checkbox\" checked><label for=\"sk-estimator-id-1\" class=\"sk-toggleable__label sk-toggleable__label-arrow\">LogisticRegression</label><div class=\"sk-toggleable__content\"><pre>LogisticRegression()</pre></div></div></div></div></div>"
      ],
      "text/plain": [
       "LogisticRegression()"
      ]
     },
     "execution_count": 47,
     "metadata": {},
     "output_type": "execute_result"
    }
   ],
   "source": [
    "model.fit(x_train,y_train)"
   ]
  },
  {
   "cell_type": "markdown",
   "id": "e47f9a3c",
   "metadata": {},
   "source": [
    "*Here we trained the logistic regression model using the training data , using the fit() method.*"
   ]
  },
  {
   "cell_type": "code",
   "execution_count": 48,
   "id": "07bb92d8",
   "metadata": {},
   "outputs": [
    {
     "name": "stdout",
     "output_type": "stream",
     "text": [
      "0.9368641451695165\n"
     ]
    }
   ],
   "source": [
    "print(model.score(x_test,y_test))"
   ]
  },
  {
   "cell_type": "markdown",
   "id": "b7ad192f",
   "metadata": {},
   "source": [
    "*Here we printed the accuracy score of the logistic regression model on the test data using the score() method.*"
   ]
  },
  {
   "cell_type": "code",
   "execution_count": 49,
   "id": "687d7907",
   "metadata": {},
   "outputs": [],
   "source": [
    "pred=model.predict(x_test)"
   ]
  },
  {
   "cell_type": "markdown",
   "id": "b0b88316",
   "metadata": {},
   "source": [
    "*Here we generated predictions on the tset data using the trained logistic regression model and stored the results in the variable \"pred\".*"
   ]
  },
  {
   "cell_type": "code",
   "execution_count": 50,
   "id": "7b769547",
   "metadata": {},
   "outputs": [
    {
     "data": {
      "text/plain": [
       "array([[34802,   131],\n",
       "       [ 2221,    99]], dtype=int64)"
      ]
     },
     "execution_count": 50,
     "metadata": {},
     "output_type": "execute_result"
    }
   ],
   "source": [
    "confusion_matrix(y_test,pred)"
   ]
  },
  {
   "cell_type": "markdown",
   "id": "13196250",
   "metadata": {},
   "source": [
    "*Here we gerated a confusion matrix to evaluate the performance of the logistic regression model by comparing the predicted labels (\"pred\") against the true lebels (\"y_test\"). This matrix provides insight into the model's classification accuracy and errors.*"
   ]
  },
  {
   "cell_type": "code",
   "execution_count": 51,
   "id": "e44cae23",
   "metadata": {},
   "outputs": [
    {
     "name": "stdout",
     "output_type": "stream",
     "text": [
      "              precision    recall  f1-score   support\n",
      "\n",
      "         0.0       0.94      1.00      0.97     34933\n",
      "         1.0       0.43      0.04      0.08      2320\n",
      "\n",
      "    accuracy                           0.94     37253\n",
      "   macro avg       0.69      0.52      0.52     37253\n",
      "weighted avg       0.91      0.94      0.91     37253\n",
      "\n"
     ]
    }
   ],
   "source": [
    "from sklearn.metrics import classification_report\n",
    "print(classification_report(y_test,pred))"
   ]
  },
  {
   "cell_type": "markdown",
   "id": "ce03129d",
   "metadata": {},
   "source": [
    "*Here we printed a classification report that includes precision, recall, F1-score and support for each class based on the predictions (\"pred\") compared to the true labels (\"y_test\"). This provides a detailed evaluation of the model's performance on the test data.*"
   ]
  },
  {
   "cell_type": "markdown",
   "id": "5bf322b9",
   "metadata": {},
   "source": [
    "# Model 2 : Decision tree"
   ]
  },
  {
   "cell_type": "code",
   "execution_count": 52,
   "id": "abd7a434",
   "metadata": {},
   "outputs": [
    {
     "name": "stdout",
     "output_type": "stream",
     "text": [
      "0.9135371647920972\n"
     ]
    }
   ],
   "source": [
    "from sklearn.tree import DecisionTreeClassifier\n",
    "model1 = DecisionTreeClassifier()\n",
    "model1.fit(x_train,y_train)\n",
    "print(model1.score(x_test,y_test))\n",
    "pred1 = model1.predict(x_test)"
   ]
  },
  {
   "cell_type": "markdown",
   "id": "9e92e2be",
   "metadata": {},
   "source": [
    "Here we imported DecisionTreeClassifier from scikit-learn , created a Decision tree model named \"model1\" , trained it on the training data (x_train and y_train), printed its accuracy score on the test data(x_test,y_test) and predictions on the test data using the trained model, storing the results in \"pred1\""
   ]
  },
  {
   "cell_type": "code",
   "execution_count": 53,
   "id": "825ece85",
   "metadata": {},
   "outputs": [
    {
     "data": {
      "text/plain": [
       "array([[33710,  1223],\n",
       "       [ 1998,   322]], dtype=int64)"
      ]
     },
     "execution_count": 53,
     "metadata": {},
     "output_type": "execute_result"
    }
   ],
   "source": [
    "confusion_matrix(y_test,pred1)"
   ]
  },
  {
   "cell_type": "markdown",
   "id": "d37a4ef8",
   "metadata": {},
   "source": [
    "We generated a confision matrix to assess the performance of the Decision tree Classifier model (\"model1\") by comparing the predicted labels (\"pred1\") aganist the true labels (\"y_test\"). This matrix provides insights into the model's classification accuracy and errors."
   ]
  },
  {
   "cell_type": "code",
   "execution_count": 54,
   "id": "44cc2937",
   "metadata": {},
   "outputs": [
    {
     "name": "stdout",
     "output_type": "stream",
     "text": [
      "              precision    recall  f1-score   support\n",
      "\n",
      "         0.0       0.94      0.96      0.95     34933\n",
      "         1.0       0.21      0.14      0.17      2320\n",
      "\n",
      "    accuracy                           0.91     37253\n",
      "   macro avg       0.58      0.55      0.56     37253\n",
      "weighted avg       0.90      0.91      0.91     37253\n",
      "\n"
     ]
    }
   ],
   "source": [
    "from sklearn.metrics import classification_report\n",
    "print(classification_report(y_test,pred1))"
   ]
  },
  {
   "cell_type": "markdown",
   "id": "a52d84f9",
   "metadata": {},
   "source": [
    "Here we printed a classification report that includes precision, recall, F1-score and support for each class based on the predictions (\"pred1\") compared to the true labels (\"y_test\"). This provides a detailed evaluation of the model's performance on the test data"
   ]
  },
  {
   "cell_type": "markdown",
   "id": "2be3cd94",
   "metadata": {},
   "source": [
    "# Model 3 : Random forest"
   ]
  },
  {
   "cell_type": "code",
   "execution_count": 55,
   "id": "1ded6665",
   "metadata": {},
   "outputs": [
    {
     "name": "stdout",
     "output_type": "stream",
     "text": [
      "0.9296969371594234\n"
     ]
    }
   ],
   "source": [
    "from sklearn.ensemble import RandomForestClassifier\n",
    "model2=RandomForestClassifier()\n",
    "model2.fit(x_train,y_train)\n",
    "print(model2.score(x_test,y_test))\n",
    "pred2=model2.predict(x_test)"
   ]
  },
  {
   "cell_type": "markdown",
   "id": "89f30468",
   "metadata": {},
   "source": [
    "*Here we imported RandomForestClassifier from scikit-learn , created a rendom forest model named \"model2\" , trained it on the training data (x_train and y_train), printed its accuracy score on the test data(x_test,y_test) and predictions on the test data using the trained model, storing the results in \"pred2\".*"
   ]
  },
  {
   "cell_type": "code",
   "execution_count": 56,
   "id": "9ea527a4",
   "metadata": {},
   "outputs": [
    {
     "data": {
      "text/plain": [
       "array([[34422,   511],\n",
       "       [ 2108,   212]], dtype=int64)"
      ]
     },
     "execution_count": 56,
     "metadata": {},
     "output_type": "execute_result"
    }
   ],
   "source": [
    "confusion_matrix(y_test,pred2)"
   ]
  },
  {
   "cell_type": "markdown",
   "id": "b644990b",
   "metadata": {},
   "source": [
    "*We generated a confision matrix to assess the performance of the Random Forest Classifier model (\"model2\") by comparing the predicted labels (\"pred2\") aganist the true labels (\"y_test\"). This matrix provides insights into the model's classification accuracy and errors.*"
   ]
  },
  {
   "cell_type": "code",
   "execution_count": 57,
   "id": "5c773521",
   "metadata": {},
   "outputs": [
    {
     "name": "stdout",
     "output_type": "stream",
     "text": [
      "              precision    recall  f1-score   support\n",
      "\n",
      "         0.0       0.94      0.99      0.96     34933\n",
      "         1.0       0.29      0.09      0.14      2320\n",
      "\n",
      "    accuracy                           0.93     37253\n",
      "   macro avg       0.62      0.54      0.55     37253\n",
      "weighted avg       0.90      0.93      0.91     37253\n",
      "\n"
     ]
    }
   ],
   "source": [
    "from sklearn.metrics import classification_report\n",
    "print(classification_report(y_test,pred2))"
   ]
  },
  {
   "cell_type": "markdown",
   "id": "477f9b09",
   "metadata": {},
   "source": [
    "*Here we printed a classification report that includes precision, recall, F1-score and support for each class based on the predictions (\"pred2\") compared to the true labels (\"y_test\"). This provides a detailed evaluation of the model's performance on the test data.*"
   ]
  },
  {
   "cell_type": "markdown",
   "id": "e74ddd4c",
   "metadata": {},
   "source": [
    "# Model 4 : KNeighborsClassifier"
   ]
  },
  {
   "cell_type": "code",
   "execution_count": 58,
   "id": "c11ce240",
   "metadata": {},
   "outputs": [
    {
     "name": "stdout",
     "output_type": "stream",
     "text": [
      "0.9321396934475076\n"
     ]
    }
   ],
   "source": [
    "from sklearn.neighbors import KNeighborsClassifier\n",
    "model3=KNeighborsClassifier()\n",
    "model3.fit(x_train,y_train)\n",
    "model3.score(x_test,y_test)\n",
    "print(model3.score(x_test,y_test))\n",
    "pred3=model3.predict(x_test)"
   ]
  },
  {
   "cell_type": "markdown",
   "id": "341e271f",
   "metadata": {},
   "source": [
    "*Here we imported KNeighboursClassifiers from scikit-learn , created a k-nearest neighbour (KNN) model named \"model3\", trianed it on the training data(x_train and y_train), printed its accuracy score on the test data(x_test and y_test), made predictions on the test data using the trained model, and stored the results in \"pred3\".*"
   ]
  },
  {
   "cell_type": "code",
   "execution_count": 59,
   "id": "baa3bdc1",
   "metadata": {},
   "outputs": [
    {
     "data": {
      "text/plain": [
       "array([[34563,   370],\n",
       "       [ 2158,   162]], dtype=int64)"
      ]
     },
     "execution_count": 59,
     "metadata": {},
     "output_type": "execute_result"
    }
   ],
   "source": [
    "confusion_matrix(y_test,pred3)"
   ]
  },
  {
   "cell_type": "markdown",
   "id": "fda93d2a",
   "metadata": {},
   "source": [
    "*Here we genrated a confusion matrix to evaluate the peformance of the K-Nearest Neighbors(KNN) classifier model(\"model3\")  by comparing the predicted labels(\"pred3\") against the true labels (\"y_test\"). This matrix provides insights into the model's classification accuracy and errors.*"
   ]
  },
  {
   "cell_type": "code",
   "execution_count": 60,
   "id": "d1c3e4a7",
   "metadata": {},
   "outputs": [
    {
     "name": "stdout",
     "output_type": "stream",
     "text": [
      "              precision    recall  f1-score   support\n",
      "\n",
      "         0.0       0.94      0.99      0.96     34933\n",
      "         1.0       0.30      0.07      0.11      2320\n",
      "\n",
      "    accuracy                           0.93     37253\n",
      "   macro avg       0.62      0.53      0.54     37253\n",
      "weighted avg       0.90      0.93      0.91     37253\n",
      "\n"
     ]
    }
   ],
   "source": [
    "from sklearn.metrics import classification_report\n",
    "print(classification_report(y_test,pred3))"
   ]
  },
  {
   "cell_type": "markdown",
   "id": "9f02fe0c",
   "metadata": {},
   "source": [
    "*Here we printed a classification report that includes precision, recall, F1-score and support for each class based on the predictions (\"pred3\") compared to the true labels (\"y_test\"). This provides a detailed evaluation of the model's performance on the test data.*"
   ]
  },
  {
   "cell_type": "markdown",
   "id": "8268e0cf",
   "metadata": {},
   "source": [
    "*Conclusion : \n",
    "          From above models LogisticRegression gives 0.94 accuracy, DecisionTreeClassifier gives 0.91 accuracy, RandomForestClassifier gives 0.93 accuracy and KNeighborsClassifier gives 0.93 accury.\n",
    "From all of these models LogisticRegression gives highest accuracy.*"
   ]
  },
  {
   "cell_type": "code",
   "execution_count": null,
   "id": "c2806eba",
   "metadata": {},
   "outputs": [],
   "source": []
  }
 ],
 "metadata": {
  "kernelspec": {
   "display_name": "Python 3 (ipykernel)",
   "language": "python",
   "name": "python3"
  },
  "language_info": {
   "codemirror_mode": {
    "name": "ipython",
    "version": 3
   },
   "file_extension": ".py",
   "mimetype": "text/x-python",
   "name": "python",
   "nbconvert_exporter": "python",
   "pygments_lexer": "ipython3",
   "version": "3.10.9"
  }
 },
 "nbformat": 4,
 "nbformat_minor": 5
}
